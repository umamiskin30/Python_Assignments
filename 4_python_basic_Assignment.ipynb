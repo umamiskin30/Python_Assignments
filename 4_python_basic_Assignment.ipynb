{
 "cells": [
  {
   "cell_type": "markdown",
   "id": "62a3e700",
   "metadata": {},
   "source": [
    "# 1. What exactly is []?\n",
    "\n",
    "* In Python, [] is an empty list.\n",
    "\n",
    "my_list = []\n"
   ]
  },
  {
   "cell_type": "markdown",
   "id": "eb7d9391",
   "metadata": {},
   "source": [
    "# 2. In a list of values stored in a variable called spam, how would you assign the value &#39;hello&#39; as the\n",
    "third value? (Assume [2, 4, 6, 8, 10] are in spam.)\n",
    "\n"
   ]
  },
  {
   "cell_type": "code",
   "execution_count": 1,
   "id": "93ac3666",
   "metadata": {},
   "outputs": [
    {
     "name": "stdout",
     "output_type": "stream",
     "text": [
      "[2, 4, 'hello', 8, 10]\n"
     ]
    }
   ],
   "source": [
    "spam = [2, 4, 6, 8, 10]\n",
    "spam[2] = 'hello'\n",
    "print(spam)\n"
   ]
  },
  {
   "cell_type": "markdown",
   "id": "bec9ffb0",
   "metadata": {},
   "source": [
    "# 3. What is the value of spam[int(int(&#39;3&#39; * 2) / 11)]?\n",
    "\n"
   ]
  },
  {
   "cell_type": "code",
   "execution_count": null,
   "id": "bcfc2a97",
   "metadata": {},
   "outputs": [],
   "source": []
  },
  {
   "cell_type": "markdown",
   "id": "1c4d3765",
   "metadata": {},
   "source": [
    "# 4. What is the value of spam[-1]?\n",
    "\n",
    "* In Python, the index `-1` represents the last element of a list. So `spam[-1]` would give us the last element of the `spam` list.\n",
    "\n",
    "* If `spam` is the list `[a, b, c, d]`, then `spam[-1]` would give us the value `'d'`."
   ]
  },
  {
   "cell_type": "markdown",
   "id": "9d4e1d2e",
   "metadata": {},
   "source": [
    "# 5. What is the value of spam[:2]?\n",
    "Let&#39;s pretend bacon has the list [3.14, &#39;cat,&#39; 11, &#39;cat,&#39; True] for the next three questions.\n",
    "\n",
    "* If `spam` is the list `[a, b, c, d]`, then `spam[:2]` would give us a new list that includes the first two elements of `spam`. \n",
    "\n",
    "So the value of `spam[:2]` would be the list `[3.14,'cat']`."
   ]
  },
  {
   "cell_type": "markdown",
   "id": "6ccbe33f",
   "metadata": {},
   "source": [
    "# 6. What is the value of bacon.index(&#39;cat&#39;)?\n",
    "\n",
    "* the value of bacon.index('cat') would be 1, because the first occurrence of 'cat' is at index 1 in the bacon list."
   ]
  },
  {
   "cell_type": "markdown",
   "id": "1262ef1c",
   "metadata": {},
   "source": [
    "# 7. How does bacon.append(99) change the look of the list value in bacon?\n",
    "\n",
    "\n",
    "* After the append() method call, the new value of the bacon list would be [3.14, 'cat', 11, 'cat', True, 99]."
   ]
  },
  {
   "cell_type": "markdown",
   "id": "7982dacd",
   "metadata": {},
   "source": [
    "# 8. How does bacon.remove(&#39;cat&#39;) change the look of the list in bacon?\n",
    "\n",
    "* After the remove() method call, the new value of the bacon list would be [3.14, 11, 'cat', True]."
   ]
  },
  {
   "cell_type": "markdown",
   "id": "350aa5e4",
   "metadata": {},
   "source": [
    "# 9. What are the list concatenation and list replication operators?\n",
    "\n"
   ]
  },
  {
   "cell_type": "code",
   "execution_count": 3,
   "id": "70b9361e",
   "metadata": {},
   "outputs": [
    {
     "name": "stdout",
     "output_type": "stream",
     "text": [
      "[1, 2, 3, 4, 5, 6]\n"
     ]
    }
   ],
   "source": [
    "##exmaple of concatenation\n",
    "list1 = [1, 2, 3]\n",
    "list2 = [4, 5, 6]\n",
    "concatenated_list = list1 + list2\n",
    "print(concatenated_list) # Output: [1, 2, 3, 4, 5, 6]\n"
   ]
  },
  {
   "cell_type": "code",
   "execution_count": 4,
   "id": "c4b9edcf",
   "metadata": {},
   "outputs": [
    {
     "name": "stdout",
     "output_type": "stream",
     "text": [
      "[1, 2, 3, 1, 2, 3, 1, 2, 3]\n"
     ]
    }
   ],
   "source": [
    "##example of replication operatores \n",
    "\n",
    "list1 = [1, 2, 3]\n",
    "replicated_list = list1 * 3\n",
    "print(replicated_list) # Output: [1, 2, 3, 1, 2, 3, 1, 2, 3]\n"
   ]
  },
  {
   "cell_type": "markdown",
   "id": "9675db51",
   "metadata": {},
   "source": [
    "# 10. What is difference between the list methods append() and insert()?\n",
    "\n",
    "* The append() method is used to add an element to the end of a list, while the insert() method is used to add an element at a specific index in the list. Here's an "
   ]
  },
  {
   "cell_type": "code",
   "execution_count": 5,
   "id": "c4f9f27b",
   "metadata": {},
   "outputs": [
    {
     "name": "stdout",
     "output_type": "stream",
     "text": [
      "[1, 2, 3, 4]\n",
      "[1, 4, 2, 3]\n"
     ]
    }
   ],
   "source": [
    "##example \n",
    "\n",
    "# Using append() to add an element to the end of the list\n",
    "my_list = [1, 2, 3]\n",
    "my_list.append(4)\n",
    "print(my_list)  # Output: [1, 2, 3, 4]\n",
    "\n",
    "# Using insert() to add an element at a specific index in the list\n",
    "my_list = [1, 2, 3]\n",
    "my_list.insert(1, 4)\n",
    "print(my_list)  # Output: [1, 4, 2, 3]\n"
   ]
  },
  {
   "cell_type": "markdown",
   "id": "47414f4a",
   "metadata": {},
   "source": [
    "# 11. What are the two methods for removing items from a list?\n",
    "\n",
    "* remove(): This method removes the first occurrence of a specified value from the list. If the specified value is not found, it will raise a ValueError. "
   ]
  },
  {
   "cell_type": "code",
   "execution_count": 6,
   "id": "9c199734",
   "metadata": {},
   "outputs": [
    {
     "name": "stdout",
     "output_type": "stream",
     "text": [
      "[1, 2, 4, 5]\n"
     ]
    }
   ],
   "source": [
    "my_list = [1, 2, 3, 4, 5]\n",
    "my_list.remove(3)  # removes the first occurrence of 3 from the list\n",
    "print(my_list)  # [1, 2, 4, 5]\n"
   ]
  },
  {
   "cell_type": "markdown",
   "id": "ff5cb444",
   "metadata": {},
   "source": [
    "* 'pop()': This method removes the item at a specified index and returns it.\n",
    "    If the index is not specified, it removes and returns the last item in the list"
   ]
  },
  {
   "cell_type": "code",
   "execution_count": 11,
   "id": "71f22205",
   "metadata": {},
   "outputs": [
    {
     "name": "stdout",
     "output_type": "stream",
     "text": [
      "[1, 2, 4, 5]\n"
     ]
    }
   ],
   "source": [
    "my_list = [1, 2, 3, 4, 5]\n",
    "del my_list[2]  # removes the item at index 2 (which is 3)\n",
    "print(my_list)  # [1, 2, 4, 5]\n"
   ]
  },
  {
   "cell_type": "markdown",
   "id": "af1af874",
   "metadata": {},
   "source": [
    "# 12. Describe how list values and string values are identical.\n",
    "\n",
    "* List values and string values are similar in that they are both sequences of values. In a string, the values are characters, whereas in a list, they can be any type of data. Both strings and lists can be indexed and sliced to access specific values within them. They can also both be looped over using a for loop. Additionally, both strings and lists support concatenation and replication operations."
   ]
  },
  {
   "cell_type": "markdown",
   "id": "a92d9be7",
   "metadata": {},
   "source": [
    "# 13. What&#39;s the difference between tuples and lists?\n",
    "\n",
    "* In Python, lists and tuples are both used to store sequences of data. However, there are several differences between them:\n",
    "\n",
    "1. Mutability: Lists are mutable, which means that their contents can be modified by adding, removing, or changing elements. Tuples, on the other hand, are immutable, which means that once they are created, their contents cannot be modified.\n",
    "\n",
    "2. Syntax: Lists are defined using square brackets [], while tuples are defined using parentheses ().\n",
    "\n",
    "3. Performance: Tuples are generally faster than lists, especially for operations that only require reading the contents of the sequence and not modifying it. This is because tuples are simpler and more lightweight than lists.\n",
    "\n",
    "4. Usage: Lists are often used when you need to modify the contents of a sequence over time, or when you need to store a collection of items that can be changed. Tuples are often used when you need to store a collection of items that should not be changed, such as the coordinates of a point in space or the RGB values of a color.\n",
    "\n",
    "Overall, the choice between using a list or a tuple depends on the specific requirements of your program and the operations that you need to perform on the sequence of data."
   ]
  },
  {
   "cell_type": "markdown",
   "id": "9ac70209",
   "metadata": {},
   "source": [
    "# 14. How do you type a tuple value that only contains the integer 42?\n",
    "\n",
    "* To create a tuple value that only contains the integer 42, you can use the following \n"
   ]
  },
  {
   "cell_type": "markdown",
   "id": "1a5535ee",
   "metadata": {},
   "source": [
    "# my_tuple = (42,)\n"
   ]
  },
  {
   "cell_type": "markdown",
   "id": "f0706330",
   "metadata": {},
   "source": [
    "# 15. How do you get a list value&#39;s tuple form? How do you get a tuple value&#39;s list form?\n",
    "\n",
    "* To get a list value's tuple form, you can use the tuple() function, passing the list as an argument."
   ]
  },
  {
   "cell_type": "code",
   "execution_count": 14,
   "id": "604e2339",
   "metadata": {},
   "outputs": [
    {
     "name": "stdout",
     "output_type": "stream",
     "text": [
      "(1, 2, 3)\n"
     ]
    }
   ],
   "source": [
    "my_list = [1, 2, 3]\n",
    "my_tuple = tuple(my_list)\n",
    "print(my_tuple)\n"
   ]
  },
  {
   "cell_type": "code",
   "execution_count": 15,
   "id": "ce07d81b",
   "metadata": {},
   "outputs": [
    {
     "name": "stdout",
     "output_type": "stream",
     "text": [
      "[4, 5, 6]\n"
     ]
    }
   ],
   "source": [
    "my_tuple = (4, 5, 6)\n",
    "my_list = list(my_tuple)\n",
    "print(my_list)\n"
   ]
  },
  {
   "cell_type": "markdown",
   "id": "8ddf7348",
   "metadata": {},
   "source": [
    "# 16. Variables that &quot;contain&quot; list values are not necessarily lists themselves.Instead, what do they contain? \n",
    "\n",
    "* Variables that \"contain\" list values are actually referencing the list object in memory. The variables themselves are simply references to the list object, similar to a pointer in other programming languages."
   ]
  },
  {
   "cell_type": "markdown",
   "id": "5c63debf",
   "metadata": {},
   "source": [
    "# 17. How do you distinguish between copy.copy() and copy.deepcopy()?\n",
    "\n",
    "\n"
   ]
  },
  {
   "cell_type": "code",
   "execution_count": 16,
   "id": "a1bfeb3e",
   "metadata": {},
   "outputs": [
    {
     "name": "stdout",
     "output_type": "stream",
     "text": [
      "[1, 2, [3, 40]]\n",
      "[10, 2, [3, 40]]\n"
     ]
    }
   ],
   "source": [
    "import copy\n",
    "\n",
    "list1 = [1, 2, [3, 4]]\n",
    "list2 = copy.copy(list1)\n",
    "list2[0] = 10\n",
    "list2[2][1] = 40\n",
    "print(list1)  # Output: [1, 2, [3, 40]]\n",
    "print(list2)  # Output: [10, 2, [3, 40]]\n"
   ]
  }
 ],
 "metadata": {
  "kernelspec": {
   "display_name": "Python 3 (ipykernel)",
   "language": "python",
   "name": "python3"
  },
  "language_info": {
   "codemirror_mode": {
    "name": "ipython",
    "version": 3
   },
   "file_extension": ".py",
   "mimetype": "text/x-python",
   "name": "python",
   "nbconvert_exporter": "python",
   "pygments_lexer": "ipython3",
   "version": "3.10.9"
  }
 },
 "nbformat": 4,
 "nbformat_minor": 5
}

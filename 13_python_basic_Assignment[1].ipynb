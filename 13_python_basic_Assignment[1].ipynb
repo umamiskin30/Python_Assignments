{
 "cells": [
  {
   "cell_type": "markdown",
   "id": "f344d5fb",
   "metadata": {},
   "source": [
    "# 1. What advantages do Excel spreadsheets have over CSV spreadsheets?\n",
    "\n",
    "\n",
    "\n",
    "\n",
    "1. Formatting: Excel allows you to format cells with different fonts, colors, and borders, making it easier to organize and understand your data. CSV files do not support formatting.\n",
    "\n",
    "2. Calculations: Excel has built-in functions and formulas that allow you to perform calculations on your data. This can save you time and reduce the chance of errors. CSV files do not support calculations.\n",
    "\n",
    "3. Charts and Graphs: Excel allows you to create charts and graphs based on your data. This can help you visualize your data and identify trends. CSV files do not support charts and graphs.\n",
    "\n",
    "4. Multiple sheets: Excel allows you to create multiple sheets within one file, making it easier to organize and manage your data. CSV files only contain one sheet.\n",
    "\n",
    "5. Protection: Excel allows you to protect your file with a password, preventing unauthorized access or changes. CSV files do not have this feature.\n",
    "\n"
   ]
  },
  {
   "cell_type": "markdown",
   "id": "55390653",
   "metadata": {},
   "source": [
    "# 2.What do you pass to csv.reader() and csv.writer() to create reader and writer objects?\n",
    "\n",
    "* To create a reader object in Python's csv module, you need to pass a file object to the csv.reader()\n",
    "function. The file object can be created by opening a CSV file in read mode using the open() function\n",
    "\n"
   ]
  },
  {
   "cell_type": "code",
   "execution_count": null,
   "id": "2cec694e",
   "metadata": {},
   "outputs": [],
   "source": [
    "import csv\n",
    "\n",
    "with open('data.csv', 'r') as file:\n",
    "    reader = csv.reader(file)\n",
    "    # Use the reader object to read data from the CSV file\n",
    "\n"
   ]
  },
  {
   "cell_type": "markdown",
   "id": "9e219ff8",
   "metadata": {},
   "source": [
    "* To create a writer object, you need to pass a file object and the desired output format to the csv.writer() function.\n",
    "The file object can be created by opening a CSV file in write mode using the open() function.\n",
    "\n"
   ]
  },
  {
   "cell_type": "code",
   "execution_count": null,
   "id": "dc43173d",
   "metadata": {},
   "outputs": [],
   "source": [
    "import csv\n",
    "\n",
    "with open('output.csv', 'w', newline='') as file:\n",
    "    writer = csv.writer(file)\n",
    "    # Use the writer object to write data to the CSV file"
   ]
  },
  {
   "cell_type": "markdown",
   "id": "e6106101",
   "metadata": {},
   "source": [
    "# 3. What modes do File objects for reader and writer objects need to be opened in?"
   ]
  },
  {
   "cell_type": "code",
   "execution_count": null,
   "id": "21201c54",
   "metadata": {},
   "outputs": [],
   "source": [
    "import csv\n",
    "\n",
    "# Open the CSV file in read mode and create a reader object\n",
    "with open('data.csv', 'r') as file:\n",
    "    reader = csv.reader(file)\n",
    "    # Use the reader object to read data from the CSV file\n",
    "\n",
    "# Open the CSV file in write mode and create a writer object\n",
    "with open('output.csv', 'w', newline='') as file:\n",
    "    writer = csv.writer(file)\n",
    "    # Use the writer object to write data to the CSV file\n"
   ]
  },
  {
   "cell_type": "markdown",
   "id": "6d4edc27",
   "metadata": {},
   "source": [
    "# 4. What method takes a list argument and writes it to a CSV file?"
   ]
  },
  {
   "cell_type": "code",
   "execution_count": null,
   "id": "b9f1e472",
   "metadata": {},
   "outputs": [],
   "source": [
    "import csv\n",
    "\n",
    "# Open the CSV file in write mode and create a writer object\n",
    "with open('output.csv', 'w', newline='') as file:\n",
    "    writer = csv.writer(file)\n",
    "\n",
    "    # Write a single row to the CSV file\n",
    "    row = ['Name', 'Age', 'Country']\n",
    "    writer.writerow(row)\n",
    "\n",
    "    # Write multiple rows to the CSV file\n",
    "    rows = [\n",
    "        ['Alice', 25, 'USA'],\n",
    "        ['Bob', 30, 'Canada'],\n",
    "        ['Charlie', 35, 'UK']\n",
    "    ]\n",
    "    writer.writerows(rows)\n"
   ]
  },
  {
   "cell_type": "markdown",
   "id": "2ddd9322",
   "metadata": {},
   "source": [
    "# 5. What do the keyword arguments delimiter and line terminator do?"
   ]
  },
  {
   "cell_type": "markdown",
   "id": "419b3df4",
   "metadata": {},
   "source": [
    "* delimiter: Specifies the character used to separate fields in a CSV file. By default, the delimiter is a comma (,). \n",
    "    However, you can specify a different character using the delimiter keyword argument. "
   ]
  },
  {
   "cell_type": "code",
   "execution_count": null,
   "id": "d63b281d",
   "metadata": {},
   "outputs": [],
   "source": [
    "import csv\n",
    "\n",
    "with open('data.csv', 'r') as file:\n",
    "    reader = csv.reader(file, delimiter=';') # use semicolon as delimiter instead of comma\n",
    "    for row in reader:\n",
    "        print(row)\n"
   ]
  },
  {
   "cell_type": "code",
   "execution_count": null,
   "id": "08d2ae79",
   "metadata": {},
   "outputs": [],
   "source": [
    "* lineterminator: Specifies the character used to terminate lines in a CSV file. By default, the line terminator is a newline (\\n).\n",
    "    However, you can specify a different character using the lineterminator keyword argument. "
   ]
  },
  {
   "cell_type": "code",
   "execution_count": null,
   "id": "569af023",
   "metadata": {},
   "outputs": [],
   "source": [
    "import csv\n",
    "\n",
    "with open('output.csv', 'w', newline='') as file:\n",
    "    writer = csv.writer(file, lineterminator='\\r\\n') # use carriage return and newline as line terminator\n",
    "    writer.writerow(['Name', 'Age', 'Country'])\n",
    "    writer.writerow(['Alice', 25, 'USA'])\n",
    "    writer.writerow(['Bob', 30, 'Canada'])\n"
   ]
  },
  {
   "cell_type": "markdown",
   "id": "7ebee314",
   "metadata": {},
   "source": [
    "# 6. What function takes a string of JSON data and returns a Python data structure?"
   ]
  },
  {
   "cell_type": "code",
   "execution_count": null,
   "id": "fa43352a",
   "metadata": {},
   "outputs": [],
   "source": [
    "import json\n",
    "\n",
    "# JSON data as a string\n",
    "json_string = '{\"name\": \"Alice\", \"age\": 25, \"country\": \"USA\"}'\n",
    "\n",
    "# Deserialize the JSON string into a Python dictionary\n",
    "data = json.loads(json_string)\n",
    "\n",
    "# Print the data structure\n",
    "print(data)\n"
   ]
  },
  {
   "cell_type": "markdown",
   "id": "8a81b9da",
   "metadata": {},
   "source": [
    "# 7. What function takes a Python data structure and returns a string of JSON data?"
   ]
  },
  {
   "cell_type": "markdown",
   "id": "39ea044c",
   "metadata": {},
   "source": [
    "* The json module in Python provides a method called dumps() that can be used to serialize a Python data structure into a JSON string."
   ]
  },
  {
   "cell_type": "code",
   "execution_count": null,
   "id": "24b87b1f",
   "metadata": {},
   "outputs": [],
   "source": [
    "import json\n",
    "\n",
    "# Python dictionary\n",
    "data = {'name': 'Alice', 'age': 25, 'country': 'USA'}\n",
    "\n",
    "# Serialize the dictionary into a JSON string\n",
    "json_string = json.dumps(data)\n",
    "\n",
    "# Print the JSON string\n",
    "print(json_string)\n"
   ]
  }
 ],
 "metadata": {
  "kernelspec": {
   "display_name": "Python 3 (ipykernel)",
   "language": "python",
   "name": "python3"
  },
  "language_info": {
   "codemirror_mode": {
    "name": "ipython",
    "version": 3
   },
   "file_extension": ".py",
   "mimetype": "text/x-python",
   "name": "python",
   "nbconvert_exporter": "python",
   "pygments_lexer": "ipython3",
   "version": "3.10.9"
  }
 },
 "nbformat": 4,
 "nbformat_minor": 5
}

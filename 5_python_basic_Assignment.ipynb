{
 "cells": [
  {
   "cell_type": "markdown",
   "id": "b9bebcf4",
   "metadata": {},
   "source": [
    "# 1. What does an empty dictionary&#39;s code look like?\n",
    "\n"
   ]
  },
  {
   "cell_type": "code",
   "execution_count": 1,
   "id": "8c6db915",
   "metadata": {},
   "outputs": [
    {
     "data": {
      "text/plain": [
       "{}"
      ]
     },
     "execution_count": 1,
     "metadata": {},
     "output_type": "execute_result"
    }
   ],
   "source": [
    "{}"
   ]
  },
  {
   "cell_type": "markdown",
   "id": "997dc79e",
   "metadata": {},
   "source": [
    "# 2. What is the value of a dictionary value with the key &#39;foo&#39; and the value 42?"
   ]
  },
  {
   "cell_type": "code",
   "execution_count": 2,
   "id": "cfdb2127",
   "metadata": {},
   "outputs": [
    {
     "data": {
      "text/plain": [
       "{'foo': 42}"
      ]
     },
     "execution_count": 2,
     "metadata": {},
     "output_type": "execute_result"
    }
   ],
   "source": [
    "{'foo': 42}\n"
   ]
  },
  {
   "cell_type": "markdown",
   "id": "5089fcc0",
   "metadata": {},
   "source": [
    "# 3. What is the most significant distinction between a dictionary and a list?\n",
    "\n",
    "* The most significant distinction between a dictionary and a list is how they store and access data. A list stores a collection of items in a specific order and can be accessed using an index. On the other hand, a dictionary stores a collection of key-value pairs and is accessed using keys. In other words, lists are ordered and accessed by position, while dictionaries are unordered and accessed by keys."
   ]
  },
  {
   "cell_type": "markdown",
   "id": "221cdf0f",
   "metadata": {},
   "source": [
    "# 4. What happens if you try to access spam[&#39;foo&#39;] if spam is {&#39;bar&#39;: 100}?\n",
    "\n",
    "* It will raise a `KeyError` since the key `'foo'` does not exist in the dictionary `spam`."
   ]
  },
  {
   "cell_type": "markdown",
   "id": "7f64c303",
   "metadata": {},
   "source": [
    "# 5. If a dictionary is stored in spam, what is the difference between the expressions &#39;cat&#39; in spam and\n",
    "&#39;cat&#39; in spam.keys()?\n",
    "\n",
    "* There is no difference between the expressions 'cat' in spam and 'cat' in spam.keys(). Both expressions will check if the string 'cat' is a key in the dictionary stored in the variable spam."
   ]
  },
  {
   "cell_type": "markdown",
   "id": "0afbeb31",
   "metadata": {},
   "source": [
    "# 6. If a dictionary is stored in spam, what is the difference between the expressions &#39;cat&#39; in spam and\n",
    "&#39;cat&#39; in spam.values()?\n",
    "\n",
    "* The expression 'cat' in spam checks if the string 'cat' is a key in the dictionary spam. If 'cat' is a key, it returns True, otherwise False.\n",
    "\n",
    "On the other hand, the expression 'cat' in spam.values() checks if the string 'cat' is a value in the dictionary spam. If 'cat' is a value, it returns True, otherwise False."
   ]
  },
  {
   "cell_type": "markdown",
   "id": "ed7aadb2",
   "metadata": {},
   "source": [
    "# 7. What is a shortcut for the following code?\n",
    "if &#39;color&#39; not in spam:\n",
    "spam[&#39;color&#39;] = &#39;black&#39;\n",
    "\n",
    "\n",
    "* spam.setdefault('color', 'black')\n"
   ]
  },
  {
   "cell_type": "markdown",
   "id": "b87d0d7b",
   "metadata": {},
   "source": [
    "# 8. How do you &quot;pretty print&quot; dictionary values using which module and function?"
   ]
  },
  {
   "cell_type": "code",
   "execution_count": 4,
   "id": "ad18c52c",
   "metadata": {},
   "outputs": [
    {
     "name": "stdout",
     "output_type": "stream",
     "text": [
      "{'age': 30, 'city': 'New York', 'name': 'John'}\n"
     ]
    }
   ],
   "source": [
    "import pprint\n",
    "\n",
    "my_dict = {'name': 'John', 'age': 30, 'city': 'New York'}\n",
    "pprint.pprint(my_dict)\n"
   ]
  }
 ],
 "metadata": {
  "kernelspec": {
   "display_name": "Python 3 (ipykernel)",
   "language": "python",
   "name": "python3"
  },
  "language_info": {
   "codemirror_mode": {
    "name": "ipython",
    "version": 3
   },
   "file_extension": ".py",
   "mimetype": "text/x-python",
   "name": "python",
   "nbconvert_exporter": "python",
   "pygments_lexer": "ipython3",
   "version": "3.10.9"
  }
 },
 "nbformat": 4,
 "nbformat_minor": 5
}

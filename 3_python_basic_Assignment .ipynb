{
 "cells": [
  {
   "cell_type": "markdown",
   "id": "21f9a793",
   "metadata": {},
   "source": [
    "# 1. Why are functions advantageous to have in your programs?\n",
    "\n",
    "Functions are advantageous to have in your programs for several reasons:\n",
    "\n",
    "1. Reusability: Functions allow you to reuse code without having to write it again. \n",
    "    Once you have written a function, you can call it multiple times from different parts of your program. This saves time and effort, and reduces the likelihood of errors.\n",
    "\n",
    "2. Modularity: Functions help break down a large program into smaller, more manageable pieces. This makes it easier to understand and debug the code, and makes it possible for multiple programmers to work on the same program simultaneously.\n",
    "\n",
    "3. Abstraction: Functions allow you to abstract away complex logic into a single, easy-to-understand entity. This can help make your code more readable and easier to maintain.\n",
    "\n",
    "4. Testing: Functions make it easier to test your code. You can write tests for each individual function, and ensure that they work correctly before integrating them into your larger program.\n",
    "\n",
    "5. Scalability: Functions make it easier to scale your code as your program grows. By breaking down your code into smaller pieces, you can add new functionality to your program without having to modify the entire codebase."
   ]
  },
  {
   "cell_type": "markdown",
   "id": "129354bc",
   "metadata": {},
   "source": [
    "# 2. When does the code in a function run: when it&#39;s specified or when it&#39;s called?\n",
    "    \n",
    "The code in a function runs when it's called, not when it's specified.\n",
    "\n",
    "When you define a function, you are essentially creating a blueprint for the function's behavior. The code inside the function is not executed until you call the function in your program.\n",
    "\n",
    "When you call a function, you pass any necessary arguments to the function, and the function executes the code inside its body. The function can then return a value, which you can use in your program as needed."
   ]
  },
  {
   "cell_type": "markdown",
   "id": "fa562b07",
   "metadata": {},
   "source": [
    "# 3. What statement creates a function?\n",
    "\n",
    "In Python, the def statement is used to create a function.\n",
    "* def: This keyword is used to define a function.\n",
    "* function_name: This is the name of the function you are defining. You can choose any valid name for your function.\n",
    "* return statement: This statement is used to return a value from the function. It is optional, and you can have multiple return statements in a function. If your function does not return a value, you can omit the return statement."
   ]
  },
  {
   "cell_type": "markdown",
   "id": "13637a7a",
   "metadata": {},
   "source": [
    "# 4. What is the difference between a function and a function call?\n",
    "\n",
    "* A function is a named block of code that performs a specific task when called,\n",
    "whereas a function call is the act of executing that named block of code with specific arguments.\n",
    "\n"
   ]
  },
  {
   "cell_type": "code",
   "execution_count": 18,
   "id": "13a34954",
   "metadata": {},
   "outputs": [
    {
     "name": "stdout",
     "output_type": "stream",
     "text": [
      "5\n"
     ]
    }
   ],
   "source": [
    "##example\n",
    "\n",
    " #define a function that takes two numbers and returns their sum.\n",
    "def add_numbers(a, b):\n",
    "    return a + b\n",
    "\n",
    " #call the add_numbers function with arguments 2 and 3.\n",
    "result = add_numbers(2, 3)\n",
    "\n",
    " #print the result of the function call.\n",
    "print(result) # Output: 5\n"
   ]
  },
  {
   "cell_type": "markdown",
   "id": "fc628164",
   "metadata": {},
   "source": [
    "# 5. How many global scopes are there in a Python program? How many local scopes?\n",
    "\n",
    "\n",
    "* In a Python program, there is only one global scope, which is created when the program starts running. All variables defined outside of any function or class are considered global variables and are part of this global scope.\n",
    "\n",
    "* Local scopes, on the other hand, can be created multiple times during the execution of a program, and are associated with function and class definitions. Each time a function or class is defined, a new local scope is created for that function or class. Any variables defined inside the function or class are considered local variables and are part of the local scope."
   ]
  },
  {
   "cell_type": "markdown",
   "id": "02d004ee",
   "metadata": {},
   "source": [
    "# 6. What happens to variables in a local scope when the function call returns?\n",
    "\n",
    "* When a function call returns, the local scope associated with that function is destroyed, and any variables defined inside that local scope are deleted. The values stored in those variables are no longer accessible in the main program or any other function."
   ]
  },
  {
   "cell_type": "code",
   "execution_count": null,
   "id": "f3b43fe1",
   "metadata": {},
   "outputs": [],
   "source": [
    "##example\n",
    "def my_function():\n",
    "    x = 10\n",
    "    print(\"x inside function:\", x)\n",
    "\n",
    "my_function()\n",
    "\n",
    "#Trying to access x outside the function\n",
    "print(\"x outside function:\", x) # This will result in a NameError\n"
   ]
  },
  {
   "cell_type": "markdown",
   "id": "5e98c295",
   "metadata": {},
   "source": [
    "# 7. What is the concept of a return value? Is it possible to have a return value in an expression?\n",
    "\n",
    "\n",
    "* The concept of a return value in programming refers to a value that a function can send back to the calling code, usually to provide some kind of result or output from the function. When a function executes a return statement, it stops execution of the function and sends the specified value back to the calling code. The calling code can then use this returned value for further processing or output."
   ]
  },
  {
   "cell_type": "code",
   "execution_count": 12,
   "id": "6296a596",
   "metadata": {},
   "outputs": [
    {
     "name": "stdout",
     "output_type": "stream",
     "text": [
      "5\n"
     ]
    }
   ],
   "source": [
    "##example;\n",
    "\n",
    "def add_numbers(a, b):\n",
    "    return a + b\n",
    "\n",
    "result = add_numbers(2, 3)\n",
    "print(result)\n",
    "# Output: 5\n"
   ]
  },
  {
   "cell_type": "code",
   "execution_count": 13,
   "id": "c43d7517",
   "metadata": {},
   "outputs": [
    {
     "name": "stdout",
     "output_type": "stream",
     "text": [
      "10\n"
     ]
    }
   ],
   "source": [
    "def add_numbers(a, b):\n",
    "    return a + b\n",
    "\n",
    "result = add_numbers(2, 3) * 2\n",
    "print(result) # Output: 10\n"
   ]
  },
  {
   "cell_type": "markdown",
   "id": "721eea7b",
   "metadata": {},
   "source": [
    "# 8. If a function does not have a return statement, what is the return value of a call to that function?\n",
    "\n",
    "* If a function does not have a return statement, the function call will still execute any code within the function, but the function will not send back any value to the calling code.\n",
    "\n",
    "* In this case, the return value of the function call will be None, which is a special Python object that represents the absence of a value."
   ]
  },
  {
   "cell_type": "code",
   "execution_count": 14,
   "id": "eddcde15",
   "metadata": {},
   "outputs": [
    {
     "name": "stdout",
     "output_type": "stream",
     "text": [
      "Hello, Alice!\n",
      "None\n"
     ]
    }
   ],
   "source": [
    "##example \n",
    "\n",
    "def say_hello(name):\n",
    "    print(\"Hello, \" + name + \"!\")\n",
    "\n",
    "result = say_hello(\"Alice\")\n",
    "print(result)\n",
    "\n",
    "# Output: None\n"
   ]
  },
  {
   "cell_type": "markdown",
   "id": "f96c1594",
   "metadata": {},
   "source": [
    "# 9. How do you make a function variable refer to the global variable?\n",
    "\n",
    "* In Python, to refer to a global variable from inside a function, you can use the global keyword to indicate that you want to use the global variable, rather than creating a new local variable with the same name."
   ]
  },
  {
   "cell_type": "code",
   "execution_count": 15,
   "id": "e821aaf8",
   "metadata": {},
   "outputs": [
    {
     "name": "stdout",
     "output_type": "stream",
     "text": [
      "x inside function: 20\n",
      "x outside function: 20\n"
     ]
    }
   ],
   "source": [
    "##example \n",
    "x = 10\n",
    "\n",
    "def my_function():\n",
    "    global x\n",
    "    x = 20\n",
    "    print(\"x inside function:\", x)\n",
    "\n",
    "my_function()\n",
    "\n",
    "print(\"x outside function:\", x) # Output: 20\n"
   ]
  },
  {
   "cell_type": "markdown",
   "id": "ef6d5a41",
   "metadata": {},
   "source": [
    "# 10. What is the data type of None?\n",
    "\n",
    "* None is a data type of its own in Python, called NoneType. It is a singleton object, meaning that there is only one instance of the None object in the entire Python interpreter."
   ]
  },
  {
   "cell_type": "code",
   "execution_count": 16,
   "id": "2d7360ca",
   "metadata": {},
   "outputs": [
    {
     "name": "stdout",
     "output_type": "stream",
     "text": [
      "Hello\n",
      "None\n"
     ]
    }
   ],
   "source": [
    "##example\n",
    "def print_hello():\n",
    "    print(\"Hello\")\n",
    "\n",
    "result = print_hello()\n",
    "\n",
    "print(result) # Output: None\n"
   ]
  },
  {
   "cell_type": "markdown",
   "id": "3aaa4ab3",
   "metadata": {},
   "source": [
    "# 11. What does the sentence import areallyourpetsnamederic do?\n",
    "\n",
    "* The sentence import areallyourpetsnamederic does not have any inherent meaning in Python, because areallyourpetsnamederic is not a valid Python module or package name.\n",
    "\n",
    "* In Python, the import statement is used to import modules or packages that contain Python code and definitions that you can use in your own program. A module is simply a file containing Python definitions and statements, while a package is a collection of modules that are organized in a directory hierarchy.\n",
    "\n",
    "* When you use the import statement, Python looks for a module or package with the specified name in its search path, which includes the directories specified by the PYTHONPATH environment variable, as well as the standard library and the installation-dependent default path."
   ]
  },
  {
   "cell_type": "markdown",
   "id": "adac5230",
   "metadata": {},
   "source": [
    "# 12. If you had a bacon() feature in a spam module, what would you call it after importing spam?\n",
    "\n",
    "* If you had a bacon() function in a spam module, you could call it after importing the spam module by using the dot notation to access the function through the module name"
   ]
  },
  {
   "cell_type": "code",
   "execution_count": null,
   "id": "6744f001",
   "metadata": {},
   "outputs": [],
   "source": [
    "##example\n",
    "\n",
    "import spam\n",
    "\n",
    "spam.bacon()\n"
   ]
  },
  {
   "cell_type": "code",
   "execution_count": null,
   "id": "70994f9c",
   "metadata": {},
   "outputs": [],
   "source": [
    "from spam import bacon\n",
    "\n",
    "bacon()\n"
   ]
  },
  {
   "cell_type": "markdown",
   "id": "10d40b11",
   "metadata": {},
   "source": [
    "# 13. What can you do to save a programme from crashing if it encounters an error?\n",
    "\n",
    "* To save a program from crashing if it encounters an error, you can use exception handling in Python. Exception handling is a mechanism that allows you to catch and handle errors that may occur during program execution, so that your program can continue running instead of crashing.\n",
    "\n",
    "* In Python, you can use the try and except keywords to implement exception handling. The try block contains the code that may raise an exception, and the except block contains the code that handles the exception."
   ]
  },
  {
   "cell_type": "code",
   "execution_count": 23,
   "id": "85e50438",
   "metadata": {},
   "outputs": [
    {
     "name": "stdout",
     "output_type": "stream",
     "text": [
      "Oops! Division by zero\n"
     ]
    }
   ],
   "source": [
    "#example\n",
    "try:\n",
    "    # some code that may raise an exception\n",
    "    x = 10 / 0\n",
    "except ZeroDivisionError:\n",
    "    # handle the exception\n",
    "    print(\"Oops! Division by zero\")\n"
   ]
  },
  {
   "cell_type": "markdown",
   "id": "61019cc0",
   "metadata": {},
   "source": [
    "# 14. What is the purpose of the try clause? What is the purpose of the except clause?\n",
    "\n",
    "\n",
    "\n",
    "* The try and except clauses are used for exception handling in Python, and they serve different purposes:\n",
    "\n",
    "* The try clause is used to enclose the code that may raise an exception. If an exception is raised in the try block, the program execution is immediately transferred to the appropriate except block, skipping any remaining statements in the try block.\n",
    "\n",
    "* The except clause is used to handle the exception that was raised in the try block. It contains the code that should be executed if a particular type of exception occurs. You can specify the type of exception that should be caught by using the except keyword followed by the name of the exception class. If you don't specify the exception class, the except block will catch any type of exception.\n"
   ]
  },
  {
   "cell_type": "code",
   "execution_count": 24,
   "id": "11faedf5",
   "metadata": {},
   "outputs": [
    {
     "name": "stdout",
     "output_type": "stream",
     "text": [
      "Oops! Division by zero\n"
     ]
    }
   ],
   "source": [
    "##example\n",
    "\n",
    "\n",
    "try:\n",
    "    # some code that may raise an exception\n",
    "    result = 10 / 0\n",
    "except ZeroDivisionError:\n",
    "    # handle the exception\n",
    "    print(\"Oops! Division by zero\")\n"
   ]
  },
  {
   "cell_type": "code",
   "execution_count": null,
   "id": "3e4ef955",
   "metadata": {},
   "outputs": [],
   "source": []
  }
 ],
 "metadata": {
  "kernelspec": {
   "display_name": "Python 3 (ipykernel)",
   "language": "python",
   "name": "python3"
  },
  "language_info": {
   "codemirror_mode": {
    "name": "ipython",
    "version": 3
   },
   "file_extension": ".py",
   "mimetype": "text/x-python",
   "name": "python",
   "nbconvert_exporter": "python",
   "pygments_lexer": "ipython3",
   "version": "3.10.9"
  }
 },
 "nbformat": 4,
 "nbformat_minor": 5
}

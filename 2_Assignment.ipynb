{
 "cells": [
  {
   "cell_type": "markdown",
   "id": "563bdbe7",
   "metadata": {},
   "source": [
    "1.What are the two values of the Boolean data type? How do you write them?\n",
    "\n",
    "ans)\n",
    "The two values of the Boolean data type are True and False. In Python, you write them exactly as shown, \n",
    "with an uppercase first letter and lowercase second letters.\n",
    "example : x = 5\n",
    "y = 10\n",
    "z = (x < y)   # assigns True to z, since x is less than y\n",
    "print(z)\n",
    "\n",
    "a = (x == y)  # assigns False to a, since x is not equal to y\n",
    "print(a)\n"
   ]
  },
  {
   "cell_type": "markdown",
   "id": "8e1c728a",
   "metadata": {},
   "source": [
    "2. What are the three different types of Boolean operators?\n",
    "\n",
    "The three different types of Boolean operators are:\n",
    "\n",
    "* and: The and operator returns True if both operands are True, and False otherwise.\n",
    "\n",
    "* or: The or operator returns True if at least one operand is True, and False otherwise.\n",
    "\n",
    "* not: The not operator is a unary operator that returns the opposite of its operand. \n",
    "    If the operand is True, it returns False, and vice versa.\n",
    "\n",
    "x = 5\n",
    "y = 10\n",
    "z = 15\n",
    "\n",
    " Check if x is between y and z\n",
    "if x > y and x < z:\n",
    "    print(\"x is between y and z\")\n",
    "else:\n",
    "    print(\"x is not between y and z\")\n"
   ]
  },
  {
   "cell_type": "markdown",
   "id": "18e7f91f",
   "metadata": {},
   "source": [
    "3. Make a list of each Boolean operator&#39;s truth tables (i.e. every possible combination of Boolean\n",
    "values for the operator and what it evaluate ).\n",
    "\n",
    "Here are the truth tables for the three Boolean operators:\n",
    "\n",
    "1. `and` truth table:\n",
    "\n",
    "| Operand 1 | Operand 2 | Result |\n",
    "| --------- | --------- | ------ |\n",
    "| `True`    | `True`    | `True` |\n",
    "| `True`    | `False`   | `False`|\n",
    "| `False`   | `True`    | `False`|\n",
    "| `False`   | `False`   | `False`|\n",
    "\n",
    "2. `or` truth table:\n",
    "\n",
    "| Operand 1 | Operand 2 | Result |\n",
    "| --------- | --------- | ------ |\n",
    "| `True`    | `True`    | `True` |\n",
    "| `True`    | `False`   | `True` |\n",
    "| `False`   | `True`    | `True` |\n",
    "| `False`   | `False`   | `False`|\n",
    "\n",
    "3. `not` truth table:\n",
    "\n",
    "| Operand  | Result |\n",
    "| -------- | ------ |\n",
    "| `True`   | `False`|\n",
    "| `False`  | `True` |\n",
    "\n"
   ]
  },
  {
   "cell_type": "markdown",
   "id": "b6d314eb",
   "metadata": {},
   "source": [
    "4. What are the values of the following expressions?\n",
    "(5 &gt; 4) and (3 == 5)\n",
    "not (5 &gt; 4)\n",
    "(5 &gt; 4) or (3 == 5)\n",
    "not ((5 &gt; 4) or (3 == 5))\n",
    "(True and True) and (True == False)\n",
    "(not False) or (not True)\n",
    "\n",
    "ans) Here are the values of the given expressions:\n",
    "\n",
    "1. `(5 > 4) and (3 == 5)` evaluates to `False`. \n",
    "\n",
    "   Explanation: `5 > 4` is `True`, but `3 == 5` is `False`. The `and` operator requires both operands to be `True` for the entire expression to evaluate to `True`. Since one of the operands is `False`, the expression evaluates to `False`.\n",
    "   \n",
    "2. `not (5 > 4)` evaluates to `False`. \n",
    "\n",
    "   Explanation: `5 > 4` is `True`, so `not (5 > 4)` is the opposite of `True`, which is `False`.\n",
    "   \n",
    "3. `(5 > 4) or (3 == 5)` evaluates to `True`. \n",
    "\n",
    "   Explanation: `5 > 4` is `True`, so the first operand of the `or` operator is `True`. The `or` operator requires at least one operand to be `True` for the entire expression to evaluate to `True`. Since one of the operands is `True`, the expression evaluates to `True`.\n",
    "   \n",
    "4. `not ((5 > 4) or (3 == 5))` evaluates to `False`. \n",
    "\n",
    "   Explanation: `(5 > 4) or (3 == 5)` evaluates to `True` because one of the operands is `True`. The `not` operator negates the value of the entire expression. Since the expression evaluates to `True`, `not` of `True` is `False`.\n",
    "   \n",
    "5. `(True and True) and (True == False)` evaluates to `False`. \n",
    "\n",
    "   Explanation: `True and True` evaluates to `True`. However, `True == False` is `False`, so the second operand of the `and` operator is `False`. Since one of the operands is `False`, the entire expression evaluates to `False`.\n",
    "   \n",
    "6. `(not False) or (not True)` evaluates to `True`. \n",
    "\n",
    "   Explanation: `not False` is `True`, and `not True` is `False`. Therefore, the expression evaluates to `(True or False)`, which is `True` since at least one of the operands is `True`."
   ]
  },
  {
   "cell_type": "markdown",
   "id": "c68fd09b",
   "metadata": {},
   "source": [
    "5. What are the six comparison operators?\n",
    "\n",
    "The six comparison operators are:\n",
    "\n",
    "1. `>` (greater than)\n",
    "2. `<` (less than)\n",
    "3. `>=` (greater than or equal to)\n",
    "4. `<=` (less than or equal to)\n",
    "5. `==` (equal to)\n",
    "6. `!=` (not equal to)"
   ]
  },
  {
   "cell_type": "markdown",
   "id": "a95865b6",
   "metadata": {},
   "source": [
    "6. How do you tell the difference between the equal to and assignment operators?Describe a\n",
    "condition and when you would use one.\n",
    "\n",
    "The equal to operator (==) is used to compare whether two values are equal. On the other hand.\n",
    "The assignment operator (=) is used to assign a value to a variable.\n",
    "\n",
    "x = 5  # assigns the value 5 to the variable x\n",
    "y = 10 # assigns the value 10 to the variable y .\n",
    "\n",
    " if x == y:\n",
    "    print(\"x and y are equal\")\n",
    "else:\n",
    "    print(\"x and y are not equal\")\n",
    "On the other hand, if we were to use the assignment operator (=) instead of the equal to operator (==) in the above code like this.\n",
    "if x = y:\n",
    "    print(\"x and y are equal\")\n",
    "else:\n",
    "    print(\"x and y are not equal\")\n"
   ]
  },
  {
   "cell_type": "markdown",
   "id": "57c3c34f",
   "metadata": {},
   "source": [
    "7. Identify the three blocks in this code:\n",
    "spam = 0\n",
    "if spam == 10:\n",
    "print(&#39;eggs&#39;)\n",
    "if spam &gt; 5:\n",
    "print(&#39;bacon&#39;)\n",
    "else:\n",
    "print(&#39;ham&#39;)\n",
    "print(&#39;spam&#39;)\n",
    "print(&#39;spam&#39;)\n",
    "      \n",
    "spam = 0\n",
    "if spam == 10:\n",
    "    print('eggs')\n",
    "if spam > 5:\n",
    "    print('bacon')\n",
    "else:\n",
    "    print('ham')\n",
    "if spam > 5:\n",
    "    print('bacon')\n",
    "else:\n",
    "    print('ham')\n",
    "print('spam')\n",
    "print('spam')\n"
   ]
  },
  {
   "cell_type": "markdown",
   "id": "9d005a03",
   "metadata": {},
   "source": [
    "8. Write code that prints Hello if 1 is stored in spam, prints Howdy if 2 is stored in spam, and prints\n",
    "Greetings! if anything else is stored in spam.\n",
    "\n",
    "if spam == 1:\n",
    "    print(\"Hello\") \n",
    "elif spam == 2:\n",
    "    print(\"Howdy\")\n",
    "else:\n",
    "    print(\"Greetings!\")\n"
   ]
  },
  {
   "cell_type": "markdown",
   "id": "1705dc73",
   "metadata": {},
   "source": [
    "9.If your programme is stuck in an endless loop, what keys you’ll press?\n",
    "\n",
    "ans) ctrl+c to stop the program"
   ]
  },
  {
   "cell_type": "markdown",
   "id": "0f7d4363",
   "metadata": {},
   "source": [
    "10. How can you tell the difference between break and continue?\n",
    "\n",
    "In Python, break and continue are both used to alter the flow of a loop, but they do so in different ways:\n",
    "\n",
    "break is used to exit a loop entirely when a certain condition is met. \n",
    "Once the break statement is executed, the loop is terminated and the program continues with the next statement after the loop.\n",
    "\n",
    "continue is used to skip the current iteration of a loop and continue with the next iteration. \n",
    "When the continue statement is executed, the current iteration of the loop is terminated, and the program moves on to the next iteration."
   ]
  },
  {
   "cell_type": "markdown",
   "id": "2dd7a955",
   "metadata": {},
   "source": [
    "11. In a for loop, what is the difference between range(10), range(0, 10), and range(0, 10, 1)?\n",
    "\n",
    "* range(10) generates a sequence of numbers starting from 0 and ending at 9. The step size is 1 by default.\n",
    "\n",
    "* range(0, 10) generates a sequence of numbers starting from 0 and ending at 9. The step size is 1 by default.\n",
    "\n",
    "* range(0, 10, 1) generates a sequence of numbers starting from 0 and ending at 9. The step size is 1 explicitly specified."
   ]
  },
  {
   "cell_type": "markdown",
   "id": "8cdfd52e",
   "metadata": {},
   "source": [
    "12. Write a short program that prints the numbers 1 to 10 using a for loop. Then write an equivalent\n",
    "program that prints the numbers 1 to 10 using a while loop.\n",
    "\n",
    "* for i in range(1, 11):\n",
    "    print(i)\n",
    "    \n",
    "* i = 1\n",
    "while i <= 10:\n",
    "    print(i)\n",
    "    i += 1\n",
    "    \n"
   ]
  },
  {
   "cell_type": "markdown",
   "id": "aaaba61f",
   "metadata": {},
   "source": [
    "13. If you had a function named bacon() inside a module named spam, how would you call it after\n",
    "importing spam?\n",
    "\n",
    "import spam\n",
    "\n",
    "spam.bacon()\n"
   ]
  }
 ],
 "metadata": {
  "kernelspec": {
   "display_name": "Python 3 (ipykernel)",
   "language": "python",
   "name": "python3"
  },
  "language_info": {
   "codemirror_mode": {
    "name": "ipython",
    "version": 3
   },
   "file_extension": ".py",
   "mimetype": "text/x-python",
   "name": "python",
   "nbconvert_exporter": "python",
   "pygments_lexer": "ipython3",
   "version": "3.10.9"
  }
 },
 "nbformat": 4,
 "nbformat_minor": 5
}

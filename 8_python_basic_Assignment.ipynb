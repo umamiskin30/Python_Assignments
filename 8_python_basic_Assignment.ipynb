{
 "cells": [
  {
   "cell_type": "markdown",
   "id": "c49c96df",
   "metadata": {},
   "source": [
    "# 1. Is the Python Standard Library included with PyInputPlus?\n",
    "\n",
    "* No, the Python Standard Library is not included with PyInputPlus. PyInputPlus is an external package that can be installed using pip and it provides additional functionality on top of the Python Standard Library for taking input from users."
   ]
  },
  {
   "cell_type": "markdown",
   "id": "bbf505cf",
   "metadata": {},
   "source": [
    "# 2. Why is PyInputPlus commonly imported with import pyinputplus as pypi?\n",
    "\n",
    "* PyInputPlus can have a long module name, and using the `as` keyword allows the developer to give it a shorter, more convenient alias for use in their code. In this case, the module is commonly imported as `pypi` to save time and typing."
   ]
  },
  {
   "cell_type": "markdown",
   "id": "77d51422",
   "metadata": {},
   "source": [
    "# 3. How do you distinguish between inputInt() and inputFloat()?\n",
    "\n",
    "* `inputInt()` is used to get an integer input from the user and will keep prompting the user until they enter a valid integer. If the user enters a non-integer value, it will raise a `ValueError`. \n",
    "\n",
    "* `inputFloat()` is used to get a floating-point input from the user and will keep prompting the user until they enter a valid float value. If the user enters a non-float value, it will raise a `ValueError`. \n"
   ]
  },
  {
   "cell_type": "markdown",
   "id": "fbe630f6",
   "metadata": {},
   "source": [
    "# 4. Using PyInputPlus, how do you ensure that the user enters a whole number between 0 and 99?"
   ]
  },
  {
   "cell_type": "code",
   "execution_count": null,
   "id": "35382263",
   "metadata": {},
   "outputs": [],
   "source": [
    "import pyinputplus as pyip\n",
    "\n",
    "number = pyip.inputInt(prompt='Enter a number between 0 and 99: ', min=0, max=99)\n",
    "print('You entered:', number)\n"
   ]
  },
  {
   "cell_type": "markdown",
   "id": "806bf1fa",
   "metadata": {},
   "source": [
    "# 5. What is transferred to the keyword arguments allowRegexes and blockRegexes?\n",
    "\n",
    "* The `allowRegexes` and `blockRegexes` arguments of PyInputPlus functions are lists of regular expression strings. \n",
    "\n",
    "* `allowRegexes` specifies the regular expressions that match the input values that are allowed.\n",
    "\n",
    "* `blockRegexes` specifies the regular expressions that match the input values that are not allowed. "
   ]
  },
  {
   "cell_type": "markdown",
   "id": "4099c97d",
   "metadata": {},
   "source": [
    "# 6. If a blank input is entered three times, what does inputStr(limit=3) do?\n",
    "\n",
    "* If a blank input is entered three times, `inputStr(limit=3)` will raise a `TimeoutException` since it reached the maximum number of allowed retries (which is set to 3 in this case). \n",
    "\n",
    "* The default error message will be \"Blank values are not allowed.\" but a custom message can be provided by passing the `default` parameter to `inputStr()`."
   ]
  },
  {
   "cell_type": "markdown",
   "id": "ca86e6e6",
   "metadata": {},
   "source": [
    "# 7. If blank input is entered three times, what does inputStr(limit=3, default=&#39;hello&#39;) do?\n",
    "\n",
    "* `inputStr(limit=3)` will keep prompting the user to enter a non-blank string, up to three times. If the user enters a blank input three times, it will raise a `TimeoutException` error.\n",
    "\n",
    "* `inputStr(limit=3, default='hello')` will also keep prompting the user to enter a non-blank string up to three times, but if the user enters a blank input three times, it will return the default value `'hello'`."
   ]
  }
 ],
 "metadata": {
  "kernelspec": {
   "display_name": "Python 3 (ipykernel)",
   "language": "python",
   "name": "python3"
  },
  "language_info": {
   "codemirror_mode": {
    "name": "ipython",
    "version": 3
   },
   "file_extension": ".py",
   "mimetype": "text/x-python",
   "name": "python",
   "nbconvert_exporter": "python",
   "pygments_lexer": "ipython3",
   "version": "3.10.9"
  }
 },
 "nbformat": 4,
 "nbformat_minor": 5
}

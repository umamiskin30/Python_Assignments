{
 "cells": [
  {
   "cell_type": "markdown",
   "id": "2c0de8a5",
   "metadata": {},
   "source": [
    "# 1. To what does a relative path refer?\n",
    "\n",
    "* A relative path refers to the location of a file or directory relative to the current working directory of the program. It specifies the path to a file or directory starting from the current working directory, rather than from the root directory of the file system."
   ]
  },
  {
   "cell_type": "markdown",
   "id": "728bd3ca",
   "metadata": {},
   "source": [
    "# 2. What does an absolute path start with your operating system?\n",
    "\n",
    "* An absolute path starts with the root directory of the operating system. On Windows, it starts with the drive letter (e.g., C:\\), and on Unix-based systems, it starts with a forward slash (/)."
   ]
  },
  {
   "cell_type": "markdown",
   "id": "6bd78b94",
   "metadata": {},
   "source": [
    "# 3. What do the functions os.getcwd() and os.chdir() do?\n",
    "\n",
    "* os.getcwd() is a function in Python's 'os' module that returns the current working directory (cwd) of the process.\n",
    "The current working directory is the directory that the Python interpreter is operating in at the moment.\n",
    "\n",
    "* os.chdir() is another function in Python's 'os' module that changes,\n",
    "the current working directory to the directory specified as the argument."
   ]
  },
  {
   "cell_type": "markdown",
   "id": "f1fe71bf",
   "metadata": {},
   "source": [
    "# 4. What are the . and .. folders?\n",
    "\n",
    "\n",
    "* The `.` (dot) folder is a special folder that refers to the current directory. When you run a script or navigate to a directory, the current directory is set to the directory where the script is running or the directory you navigated to. The `.` folder is a way to refer to this current directory.\n",
    "\n",
    "* The `..` (dot dot) folder is also a special folder that refers to the parent directory of the current directory. In other words, it is the directory one level up from the current directory. If you are in a subdirectory and want to refer to a file in the parent directory, you can use `..` to move up one level and access the file."
   ]
  },
  {
   "cell_type": "markdown",
   "id": "ac8c2e6b",
   "metadata": {},
   "source": [
    "# 5. In C:\\bacon\\eggs\\spam.txt, which part is the dir name, and which part is the base name?\n",
    "\n",
    "* In the path C:\\bacon\\eggs\\spam.txt, \"C:\\bacon\\eggs\" is the directory name (or simply, directory), and \"spam.txt\" is the base name."
   ]
  },
  {
   "cell_type": "markdown",
   "id": "d64d1563",
   "metadata": {},
   "source": [
    "# 6. What are the three “mode” arguments that can be passed to the open() function?\n",
    "\n",
    "* The three \"mode\" arguments that can be passed to the `open()` function are:\n",
    "\n",
    "1. `'r'`: This mode is used for reading files.\n",
    "2. `'w'`: This mode is used for writing to files. If the file already exists, it will be truncated to zero length. If the file does not exist, it will be created.\n",
    "3. `'a'`: This mode is used for appending data to the end of an existing file. If the file does not exist, it will be created."
   ]
  },
  {
   "cell_type": "markdown",
   "id": "4fe88a1f",
   "metadata": {},
   "source": [
    "# 7. What happens if an existing file is opened in write mode?\n",
    "\n",
    "* If an existing file is opened in write mode using the `open()` function, the file contents are truncated (i.e., deleted) and the file is overwritten with the new data. In other words, the existing content of the file is deleted and replaced with the new data written to the file. If the file does not exist, a new file with the specified name is created."
   ]
  },
  {
   "cell_type": "markdown",
   "id": "dc7417c6",
   "metadata": {},
   "source": [
    "# 8. How do you tell the difference between read() and readlines()?\n",
    "\n",
    "* The read() method reads the entire content of a file and returns it as a single string. It takes an optional argument that specifies the number of characters to read from the file. If the argument is not provided, read() reads the entire file.\n",
    "\n",
    "* The readlines() method reads the content of a file and returns it as a list of strings, where each element of the list represents a line in the file. It reads the entire file by default, but you can specify the number of bytes to read as an argument."
   ]
  },
  {
   "cell_type": "markdown",
   "id": "032b5566",
   "metadata": {},
   "source": [
    "# 9. What data structure does a shelf value resemble?\n",
    "\n",
    "* A shelf value in Python resembles a dictionary data structure. It has key-value pairs, where the keys and values can be any picklable Python object. However, unlike a dictionary, a shelf value is stored in a file on disk, and its contents can be accessed in a random order. Shelves are often used to store and retrieve persistent data in a simple and efficient way."
   ]
  }
 ],
 "metadata": {
  "kernelspec": {
   "display_name": "Python 3 (ipykernel)",
   "language": "python",
   "name": "python3"
  },
  "language_info": {
   "codemirror_mode": {
    "name": "ipython",
    "version": 3
   },
   "file_extension": ".py",
   "mimetype": "text/x-python",
   "name": "python",
   "nbconvert_exporter": "python",
   "pygments_lexer": "ipython3",
   "version": "3.10.9"
  }
 },
 "nbformat": 4,
 "nbformat_minor": 5
}

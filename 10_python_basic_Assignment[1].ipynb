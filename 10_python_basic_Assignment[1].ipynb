{
 "cells": [
  {
   "cell_type": "markdown",
   "id": "ce202e16",
   "metadata": {},
   "source": [
    "# 1. How do you distinguish between shutil.copy() and shutil.copytree()?\n",
    "\n",
    "* shutil.copy() is a function in the shutil module that is used to copy a single file from one location to another.\n",
    "\n",
    "* shutil.copytree() is a function in the shutil module that is used to copy an entire directory tree (including all subdirectories and files) from one location to another."
   ]
  },
  {
   "cell_type": "markdown",
   "id": "57b7b328",
   "metadata": {},
   "source": [
    "# 2. What function is used to rename files??\n",
    "\n",
    "* The `os.rename()` function is used to rename files."
   ]
  },
  {
   "cell_type": "markdown",
   "id": "713ad9fd",
   "metadata": {},
   "source": [
    "# 3. What is the difference between the delete functions in the send2trash and shutil modules?\n",
    "\n",
    "* The `send2trash` module sends files and folders to the operating system's trash or recycle bin, while the `shutil` module's `os.unlink()` and `os.rmdir()` functions delete files and folders permanently from the file system without moving them to the trash. It is safer to use `send2trash` when you want to delete files or directories as it allows you to recover them if they were deleted by mistake, whereas `shutil` permanently deletes them."
   ]
  },
  {
   "cell_type": "markdown",
   "id": "bf02014b",
   "metadata": {},
   "source": [
    "# 4.ZipFile objects have a close() method just like File objects’ close() method. What ZipFile method is\n",
    "equivalent to File objects’ open() method?\n",
    "\n",
    "* The equivalent method to File objects' `open()` method for ZipFile objects is `ZipFile()` constructor. It creates a ZipFile object and opens a ZIP file."
   ]
  },
  {
   "cell_type": "markdown",
   "id": "aae2d8e3",
   "metadata": {},
   "source": [
    "# 5. Create a programme that searches a folder tree for files with a certain file extension (such as .pdf\n",
    "or .jpg). Copy these files from whatever location they are in to a new folder.\n"
   ]
  },
  {
   "cell_type": "code",
   "execution_count": null,
   "id": "5b7e6d40",
   "metadata": {},
   "outputs": [],
   "source": [
    "import os\n",
    "import shutil\n",
    "\n",
    "def find_and_copy_files(src_folder, dest_folder, extension):\n",
    "    # Create the destination folder if it doesn't exist\n",
    "    if not os.path.exists(dest_folder):\n",
    "        os.makedirs(dest_folder)\n",
    "\n",
    "    # Loop through all the files in the source folder and its subfolders\n",
    "    for root, dirs, files in os.walk(src_folder):\n",
    "        for file in files:\n",
    "            # Check if the file has the correct extension\n",
    "            if file.endswith(extension):\n",
    "                # Build the full path to the file and destination\n",
    "                src_path = os.path.join(root, file)\n",
    "                dest_path = os.path.join(dest_folder, file)\n",
    "\n",
    "                # Copy the file to the destination folder\n",
    "                shutil.copy(src_path, dest_path)\n",
    "\n",
    "    print(f\"All {extension} files copied to {dest_folder} folder.\")\n",
    "\n",
    "# Example usage\n",
    "src_folder = \"C:/Users/User1/Documents\"\n",
    "dest_folder = \"C:/Users/User1/Desktop/CopiedFiles\"\n",
    "extension = \".txt\"\n",
    "\n",
    "find_and_copy_files(src_folder, dest_folder, extension)\n"
   ]
  }
 ],
 "metadata": {
  "kernelspec": {
   "display_name": "Python 3 (ipykernel)",
   "language": "python",
   "name": "python3"
  },
  "language_info": {
   "codemirror_mode": {
    "name": "ipython",
    "version": 3
   },
   "file_extension": ".py",
   "mimetype": "text/x-python",
   "name": "python",
   "nbconvert_exporter": "python",
   "pygments_lexer": "ipython3",
   "version": "3.10.9"
  }
 },
 "nbformat": 4,
 "nbformat_minor": 5
}

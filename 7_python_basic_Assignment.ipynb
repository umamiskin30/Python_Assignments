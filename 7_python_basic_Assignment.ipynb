{
 "cells": [
  {
   "cell_type": "markdown",
   "id": "09c42cc8",
   "metadata": {},
   "source": [
    "# 1. What is the name of the feature responsible for generating Regex objects?"
   ]
  },
  {
   "cell_type": "code",
   "execution_count": 1,
   "id": "785d6034",
   "metadata": {},
   "outputs": [],
   "source": [
    "import re\n",
    "\n",
    "pattern = re.compile(r'\\d+')\n"
   ]
  },
  {
   "cell_type": "markdown",
   "id": "001e2353",
   "metadata": {},
   "source": [
    "# 2. Why do raw strings often appear in Regex objects?\n",
    "\n",
    "* Raw strings are often used in `Regex` objects because they allow us to avoid escaping special characters that have a meaning in regular expressions. Using raw strings makes regular expression patterns more readable and less error-prone, as it eliminates the need to double-escape special characters. \n"
   ]
  },
  {
   "cell_type": "markdown",
   "id": "de093285",
   "metadata": {},
   "source": [
    "# 3. What is the return value of the search() method?\n",
    "\n",
    "* The `search()` method is used to search for the first occurrence of a pattern in a string that matches a regular expression. If the pattern is found, the `search()` method returns a `Match` object, which contains information about the match, such as the matched text and the position of the match within the string. If no match is found, `search()` returns `None`."
   ]
  },
  {
   "cell_type": "markdown",
   "id": "3f794457",
   "metadata": {},
   "source": [
    "# 4. From a Match item, how do you get the actual strings that match the pattern?\n",
    "\n"
   ]
  },
  {
   "cell_type": "code",
   "execution_count": 2,
   "id": "07e7da9f",
   "metadata": {},
   "outputs": [
    {
     "name": "stdout",
     "output_type": "stream",
     "text": [
      "Match found: 2023-05-11\n",
      "Year: 2023\n",
      "Month: 05\n",
      "Day: 11\n"
     ]
    }
   ],
   "source": [
    "import re\n",
    "\n",
    "pattern = re.compile(r'(\\d+)-(\\d+)-(\\d+)')\n",
    "text = 'Date: 2023-05-11'\n",
    "\n",
    "match = pattern.search(text)\n",
    "if match:\n",
    "    print('Match found:', match.group())\n",
    "    print('Year:', match.group(1))\n",
    "    print('Month:', match.group(2))\n",
    "    print('Day:', match.group(3))\n"
   ]
  },
  {
   "cell_type": "markdown",
   "id": "d1a8892c",
   "metadata": {},
   "source": [
    "# 5. In the regex which created from the r&#39;(\\d\\d\\d)-(\\d\\d\\d-\\d\\d\\d\\d)&#39;, what does group zero cover?\n",
    "Group 2? Group 1?\n"
   ]
  },
  {
   "cell_type": "code",
   "execution_count": 3,
   "id": "cbe368ce",
   "metadata": {},
   "outputs": [
    {
     "name": "stdout",
     "output_type": "stream",
     "text": [
      "Match found: 123-456-7890\n",
      "Group 1: 123\n",
      "Group 2: 456-7890\n"
     ]
    }
   ],
   "source": [
    "import re\n",
    "\n",
    "pattern = re.compile(r'(\\d\\d\\d)-(\\d\\d\\d-\\d\\d\\d\\d)')\n",
    "text = 'My phone number is 123-456-7890.'\n",
    "\n",
    "match = pattern.search(text)\n",
    "if match:\n",
    "    print('Match found:', match.group())\n",
    "    print('Group 1:', match.group(1))\n",
    "    print('Group 2:', match.group(2))\n"
   ]
  },
  {
   "cell_type": "markdown",
   "id": "4a0f34b2",
   "metadata": {},
   "source": [
    "# 6. In standard expression syntax, parentheses and intervals have distinct meanings. How can you tell\n",
    "a regex that you want it to fit real parentheses and periods?"
   ]
  },
  {
   "cell_type": "code",
   "execution_count": 4,
   "id": "0e1a9a0f",
   "metadata": {},
   "outputs": [
    {
     "name": "stdout",
     "output_type": "stream",
     "text": [
      "Match found: (some.text)\n"
     ]
    }
   ],
   "source": [
    "import re\n",
    "\n",
    "text = '(some.text)'\n",
    "pattern = re.compile(r'\\(some\\.text\\)') # escape parentheses and period with backslash\n",
    "\n",
    "match = pattern.search(text)\n",
    "if match:\n",
    "    print('Match found:', match.group())\n"
   ]
  },
  {
   "cell_type": "markdown",
   "id": "5532a81c",
   "metadata": {},
   "source": [
    "# 7. The findall() method returns a string list or a list of string tuples. What causes it to return one of\n",
    "the two options?"
   ]
  },
  {
   "cell_type": "code",
   "execution_count": 5,
   "id": "35420433",
   "metadata": {},
   "outputs": [
    {
     "name": "stdout",
     "output_type": "stream",
     "text": [
      "['The', 'quick', 'brown', 'fox', 'jumps', 'over', 'the', 'lazy', 'dog']\n"
     ]
    }
   ],
   "source": [
    "import re\n",
    "\n",
    "text = 'The quick brown fox jumps over the lazy dog'\n",
    "pattern = re.compile(r'\\w+')\n",
    "matches = pattern.findall(text)\n",
    "print(matches)\n"
   ]
  },
  {
   "cell_type": "code",
   "execution_count": 6,
   "id": "f12a1834",
   "metadata": {},
   "outputs": [
    {
     "name": "stdout",
     "output_type": "stream",
     "text": [
      "[('John', 'Smith', '30')]\n"
     ]
    }
   ],
   "source": [
    "import re\n",
    "\n",
    "text = 'John Smith, 30 years old'\n",
    "pattern = re.compile(r'(\\w+)\\s+(\\w+),\\s+(\\d+)\\s+years\\s+old')\n",
    "matches = pattern.findall(text)\n",
    "print(matches)\n"
   ]
  },
  {
   "cell_type": "markdown",
   "id": "ce686b19",
   "metadata": {},
   "source": [
    "# 8. In standard expressions, what does the | character mean?\n",
    "\n",
    "* In standard regular expression syntax, the | character represents the logical OR operator. It allows specifying multiple alternative patterns separated by the | symbol, where each pattern will be matched independently. The | symbol allows matching any one of the alternative patterns in the expression."
   ]
  },
  {
   "cell_type": "markdown",
   "id": "ff294554",
   "metadata": {},
   "source": [
    "# 9. In regular expressions, what does the character stand for?\n",
    "\n",
    "* In regular expressions, the . (dot) character is a wildcard that matches any single character except for a newline character. It can be used to match any character or symbol in a string."
   ]
  },
  {
   "cell_type": "markdown",
   "id": "31ac9f4c",
   "metadata": {},
   "source": [
    "# 10.In regular expressions, what is the difference between the + and * characters?\n",
    "\n",
    "* In regular expressions, + and * characters are used to match patterns.\n",
    "\n",
    "* The + matches one or more occurrences of the preceding pattern, while the * matches zero or more occurrences of the preceding pattern."
   ]
  },
  {
   "cell_type": "markdown",
   "id": "70a4ef15",
   "metadata": {},
   "source": [
    "# 11. What is the difference between {4} and {4,5} in regular expression?\n",
    "\n",
    "* In regular expressions, {4} means match exactly four occurrences of the preceding pattern, while {4,5} means match at least four and at most five occurrences of the preceding pattern."
   ]
  },
  {
   "cell_type": "markdown",
   "id": "daa1fae0",
   "metadata": {},
   "source": [
    "# 12. What do you mean by the \\d, \\w, and \\s shorthand character classes signify in regular\n",
    "expressions?\n",
    "\n",
    "* \\d: Matches any digit character, equivalent to [0-9].\n",
    "* \\w: Matches any word character, which includes letters, digits, and underscores, equivalent to [a-zA-Z0-9_].\n",
    "* \\s: Matches any whitespace character, including spaces, tabs, and line breaks."
   ]
  },
  {
   "cell_type": "markdown",
   "id": "f97b0760",
   "metadata": {},
   "source": [
    "# 13. What do means by \\D, \\W, and \\S shorthand character classes signify in regular expressions?\n",
    "\n",
    "\n",
    "* \\D matches any non-digit character.\n",
    "* \\W matches any non-word character. A word character includes letters, digits, and underscores (_).\n",
    "* \\S matches any non-space character."
   ]
  },
  {
   "cell_type": "markdown",
   "id": "cd8792d4",
   "metadata": {},
   "source": [
    "# 14. What is the difference between .*? and .*?\n",
    "\n",
    "* In regular expressions, the combination of the dot (.) and asterisk (*) is used to match any character (dot) zero or more times (asterisk). The question mark (?) following the combination makes it non-greedy, meaning it will match the shortest possible string that satisfies the pattern rather than the longest."
   ]
  },
  {
   "cell_type": "markdown",
   "id": "01f009a3",
   "metadata": {},
   "source": [
    "# 15. What is the syntax for matching both numbers and lowercase letters with a character class?\n",
    "\n",
    "* The syntax for matching both numbers and lowercase letters with a character class in a regular expression is `[0-9a-z]`. The brackets denote a character class, and the dash `-` indicates a range of characters to match, in this case, from 0 to 9 and from a to z. By using this character class, the regular expression will match any single character that is either a lowercase letter or a digit."
   ]
  },
  {
   "cell_type": "markdown",
   "id": "7ec80347",
   "metadata": {},
   "source": [
    "# 16. What is the procedure for making a normal expression in regax case insensitive?"
   ]
  },
  {
   "cell_type": "code",
   "execution_count": 7,
   "id": "3a08d725",
   "metadata": {},
   "outputs": [
    {
     "name": "stdout",
     "output_type": "stream",
     "text": [
      "<re.Match object; span=(0, 5), match='Hello'>\n"
     ]
    }
   ],
   "source": [
    "import re\n",
    "\n",
    "text = \"Hello, world!\"\n",
    "pattern = re.compile(r\"hello\", re.IGNORECASE)\n",
    "match = pattern.search(text)\n",
    "print(match)\n"
   ]
  },
  {
   "cell_type": "markdown",
   "id": "ab162950",
   "metadata": {},
   "source": [
    "# 17. What does the . character normally match? What does it match if re.DOTALL is passed as 2nd\n",
    "argument in re.compile()?"
   ]
  },
  {
   "cell_type": "code",
   "execution_count": 8,
   "id": "ec48b500",
   "metadata": {},
   "outputs": [],
   "source": [
    "import re\n",
    "\n",
    "pattern = re.compile(r'.+')\n"
   ]
  },
  {
   "cell_type": "code",
   "execution_count": 9,
   "id": "226e0578",
   "metadata": {},
   "outputs": [],
   "source": [
    "import re\n",
    "\n",
    "pattern = re.compile(r'.+', re.DOTALL)\n"
   ]
  },
  {
   "cell_type": "markdown",
   "id": "64270d42",
   "metadata": {},
   "source": [
    "# 18. If numReg = re.compile(r&#39;\\d+&#39;), what will numRegex.sub(&#39;X&#39;, &#39;11 drummers, 10 pipers, five rings, 4\n",
    "hen&#39;) return?\n",
    "\n",
    "* The `numRegex.sub('X', '11 drummers, 10 pipers, five rings, 4 hen')` method will replace all the matches of the regular expression `\\d+` (one or more digits) in the input string `'11 drummers, 10 pipers, five rings, 4 hen'` with the character `'X'`. \n"
   ]
  },
  {
   "cell_type": "markdown",
   "id": "051bb31b",
   "metadata": {},
   "source": [
    "# 19. What does passing re.VERBOSE as the 2nd argument to re.compile() allow to do?"
   ]
  },
  {
   "cell_type": "code",
   "execution_count": 10,
   "id": "853892d6",
   "metadata": {},
   "outputs": [],
   "source": [
    "pattern = r'\\d{3}-\\d{2}-\\d{4}'\n"
   ]
  },
  {
   "cell_type": "code",
   "execution_count": 11,
   "id": "7549f587",
   "metadata": {},
   "outputs": [],
   "source": [
    "pattern = r'''\n",
    "    \\d{3}   # match three digits\n",
    "    -       # match a hyphen\n",
    "    \\d{2}   # match two digits\n",
    "    -       # match a hyphen\n",
    "    \\d{4}   # match four digits\n",
    "'''\n"
   ]
  },
  {
   "cell_type": "markdown",
   "id": "c03ac6b6",
   "metadata": {},
   "source": [
    "# 20. How would you write a regex that match a number with comma for every three digits? It must\n",
    "match the given following:\n",
    "&#39;42&#39;\n",
    "&#39;1,234&#39;\n",
    "&#39;6,368,745&#39;\n",
    "\n",
    "but not the following:\n",
    "&#39;12,34,567&#39; (which has only two digits between the commas)\n",
    "&#39;1234&#39; (which lacks commas)"
   ]
  },
  {
   "cell_type": "markdown",
   "id": "5dc47adc",
   "metadata": {},
   "source": [
    "Any single digit number (e.g. '0', '9', etc.)\n",
    "Any number with digits in groups of three separated by commas (e.g. '1,000', '123,456,789', etc.)\n",
    "It will not match:\n",
    "\n",
    "Any number with fewer than three digits between the commas (e.g. '12,34,567')\n",
    "Any number without commas (e.g. '1234')"
   ]
  },
  {
   "cell_type": "code",
   "execution_count": 13,
   "id": "c33102ea",
   "metadata": {},
   "outputs": [
    {
     "name": "stdout",
     "output_type": "stream",
     "text": [
      "<re.Match object; span=(0, 2), match='42'>\n",
      "<re.Match object; span=(0, 5), match='1,234'>\n",
      "<re.Match object; span=(0, 9), match='6,368,745'>\n",
      "None\n",
      "None\n"
     ]
    }
   ],
   "source": [
    "import re\n",
    "\n",
    "pattern = re.compile(r'^\\d{1,3}(,\\d{3})*$')\n",
    "\n",
    "print(pattern.match('42'))        # Matches\n",
    "print(pattern.match('1,234'))     # Matches\n",
    "print(pattern.match('6,368,745')) # Matches\n",
    "print(pattern.match('12,34,567')) # Does not match\n",
    "print(pattern.match('1234'))      # Does not match\n"
   ]
  },
  {
   "cell_type": "markdown",
   "id": "94ecbb1a",
   "metadata": {},
   "source": [
    "# 21. How would you write a regex that matches the full name of someone whose last name is\n",
    "Watanabe? You can assume that the first name that comes before it will always be one word that\n",
    "begins with a capital letter. The regex must match the following:\n",
    "&#39;Haruto Watanabe&#39;\n",
    "&#39;Alice Watanabe&#39;\n",
    "&#39;RoboCop Watanabe&#39;\n",
    "but not the following:\n",
    "&#39;haruto Watanabe&#39; (where the first name is not capitalized)\n",
    "&#39;Mr. Watanabe&#39; (where the preceding word has a nonletter character)\n",
    "&#39;Watanabe&#39; (which has no first name)\n",
    "&#39;Haruto watanabe&#39; (where Watanabe is not capitalized)"
   ]
  },
  {
   "cell_type": "code",
   "execution_count": 14,
   "id": "2437b7cd",
   "metadata": {},
   "outputs": [],
   "source": [
    "import re\n",
    "\n",
    "name_regex = re.compile(r'[A-Z][a-zA-Z]* Watanabe')\n"
   ]
  },
  {
   "cell_type": "markdown",
   "id": "dbc6b9cd",
   "metadata": {},
   "source": [
    "# 22. How would you write a regex that matches a sentence where the first word is either Alice, Bob,\n",
    "or Carol; the second word is either eats, pets, or throws; the third word is apples, cats, or baseballs;\n",
    "and the sentence ends with a period? This regex should be case-insensitive. It must match the\n",
    "following:\n",
    "&#39;Alice eats apples.&#39;\n",
    "&#39;Bob pets cats.&#39;\n",
    "&#39;Carol throws baseballs.&#39;\n",
    "&#39;Alice throws Apples.&#39;\n",
    "&#39;BOB EATS CATS.&#39;\n",
    "but not the following:\n",
    "&#39;RoboCop eats apples.&#39;\n",
    "&#39;ALICE THROWS FOOTBALLS.&#39;\n",
    "&#39;Carol eats 7 cats.&#39;"
   ]
  },
  {
   "cell_type": "markdown",
   "id": "316ceb66",
   "metadata": {},
   "source": [
    "^(Alice|Bob|Carol)\\s+(eats|pets|throws)\\s+(apples|cats|baseballs)\\.$\n"
   ]
  },
  {
   "cell_type": "markdown",
   "id": "ed3a0275",
   "metadata": {},
   "source": [
    "* ^ matches the start of the string\n",
    "* (Alice|Bob|Carol) matches any of the names Alice, Bob, or Carol\n",
    "* \\s+ matches one or more whitespace characters\n",
    "* (eats|pets|throws) matches any of the verbs eats, pets, or throws\n",
    "* (apples|cats|baseballs) matches any of the objects apples, cats, or baseballs\n",
    "* \\. matches a period\n",
    "* $ matches the end of the string\n",
    "* The i flag can be added at the end of the regex to make it case-insensitive\n",
    "\n",
    "\n",
    "\n"
   ]
  }
 ],
 "metadata": {
  "kernelspec": {
   "display_name": "Python 3 (ipykernel)",
   "language": "python",
   "name": "python3"
  },
  "language_info": {
   "codemirror_mode": {
    "name": "ipython",
    "version": 3
   },
   "file_extension": ".py",
   "mimetype": "text/x-python",
   "name": "python",
   "nbconvert_exporter": "python",
   "pygments_lexer": "ipython3",
   "version": "3.10.9"
  }
 },
 "nbformat": 4,
 "nbformat_minor": 5
}

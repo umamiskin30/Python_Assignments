{
 "cells": [
  {
   "cell_type": "markdown",
   "id": "197644f5",
   "metadata": {},
   "source": [
    "# 1.How many seconds are in an hour? Use the interactive interpreter as a calculator and multiply the number of seconds in a minute (60) by the number of minutes in an hour (also 60). sol. 60"
   ]
  },
  {
   "cell_type": "markdown",
   "id": "66526b41",
   "metadata": {},
   "source": [
    "To find the number of seconds in an hour, you can use the formula:\n",
    "\n",
    "Number of seconds in an hour = Number of minutes in an hour x Number of seconds in a minute\n",
    "\n",
    "Substituting the values, we get:\n",
    "\n",
    "Number of seconds in an hour = 60 x 60 = 3600\n",
    "\n",
    "Therefore, there are 3600 seconds in an hour."
   ]
  },
  {
   "cell_type": "markdown",
   "id": "178447af",
   "metadata": {},
   "source": [
    "# 2. Assign the result from the previous task (seconds in an hour) to a variable called seconds_per_hour."
   ]
  },
  {
   "cell_type": "markdown",
   "id": "969f4bc4",
   "metadata": {},
   "source": [
    "seconds_per_hour = 3600\n",
    "* This will create a variable called seconds_per_hour and assign the value of 3600 to it"
   ]
  },
  {
   "cell_type": "markdown",
   "id": "0a1f3cad",
   "metadata": {},
   "source": [
    "# 3. How many seconds do you think there are in a day? Make use of the variables seconds per hour and minutes per hour."
   ]
  },
  {
   "cell_type": "markdown",
   "id": "673f1377",
   "metadata": {},
   "source": [
    "To calculate the number of seconds in a day, we need to know the number of hours in a day. There are 24 hours in a day. So, to calculate the number of seconds in a day, we can use the following formula:\n",
    "\n",
    "Number of seconds in a day = Number of hours in a day x Number of minutes per hour x Number of seconds per minute\n",
    "\n",
    "Substituting the values, we get:\n",
    "\n",
    "Number of seconds in a day = 24 x 60 x 60 = 86,400\n",
    "\n",
    "Therefore, there are 86,400 seconds in a day."
   ]
  },
  {
   "cell_type": "markdown",
   "id": "3a018c75",
   "metadata": {},
   "source": [
    "# 4. Calculate seconds per day again, but this time save the result in a variable called seconds_per_day"
   ]
  },
  {
   "cell_type": "code",
   "execution_count": null,
   "id": "a6366f46",
   "metadata": {},
   "outputs": [],
   "source": [
    "seconds_per_hour = 3600\n",
    "minutes_per_hour = 60\n",
    "hours_per_day = 24\n",
    "\n",
    "seconds_per_day = seconds_per_hour * minutes_per_hour * hours_per_day\n"
   ]
  },
  {
   "cell_type": "markdown",
   "id": "15482cc4",
   "metadata": {},
   "source": [
    "This will create a variable called seconds_per_day and assign the value of 86,400 to it, which is the number of seconds in a day."
   ]
  },
  {
   "cell_type": "markdown",
   "id": "af47368d",
   "metadata": {},
   "source": [
    "# 5. Divide seconds_per_day by seconds_per_hour. Use floating-point (/) division."
   ]
  },
  {
   "cell_type": "markdown",
   "id": "cfbebcf8",
   "metadata": {},
   "source": [
    "seconds_per_day = 86400\n",
    "seconds_per_hour = 3600\n",
    "\n",
    "result = seconds_per_day / seconds_per_hour\n",
    "\n",
    "print(result)\n",
    "\n",
    "##When you run this code, the output will be:"
   ]
  },
  {
   "cell_type": "markdown",
   "id": "4fe42508",
   "metadata": {},
   "source": [
    "24.0\n",
    "* This means that there are 24 hours in a day."
   ]
  },
  {
   "cell_type": "markdown",
   "id": "91c05d1e",
   "metadata": {},
   "source": [
    "# 6. Divide seconds_per_day by seconds_per_hour, using integer (//) division. Did this number agree with the floating-point value from the previous question, aside from the final .0?"
   ]
  },
  {
   "cell_type": "code",
   "execution_count": null,
   "id": "e7044228",
   "metadata": {},
   "outputs": [],
   "source": [
    "seconds_per_day = 86400\n",
    "seconds_per_hour = 3600\n",
    "\n",
    "result = seconds_per_day // seconds_per_hour\n",
    "\n",
    "print(result)\n"
   ]
  },
  {
   "cell_type": "markdown",
   "id": "3f5c9116",
   "metadata": {},
   "source": [
    "When you run this code, the output will be:\n",
    "    \n",
    "    24\n"
   ]
  },
  {
   "cell_type": "markdown",
   "id": "60e29add",
   "metadata": {},
   "source": [
    "# 7. Write a generator, genPrimes, that returns the sequence of prime numbers on successive calls to its next() method: 2, 3, 5, 7, 11, ..."
   ]
  },
  {
   "cell_type": "code",
   "execution_count": null,
   "id": "e67ee321",
   "metadata": {},
   "outputs": [],
   "source": [
    "def genPrimes():\n",
    "    \"\"\"\n",
    "    A generator that yields prime numbers on successive calls to its next() method.\n",
    "    \"\"\"\n",
    "    primes = [2]  # start with the first prime number\n",
    "    yield 2  # return the first prime number\n",
    "\n",
    "    current = 3  # start with the next odd number\n",
    "    while True:\n",
    "        is_prime = True\n",
    "        for prime in primes:\n",
    "            if current % prime == 0:  # check if the number is divisible by any previous prime\n",
    "                is_prime = False\n",
    "                break\n",
    "\n",
    "        if is_prime:  # if the number is prime, add it to the list of primes and yield it\n",
    "            primes.append(current)\n",
    "            yield current\n",
    "\n",
    "        current += 2  # move on to the next odd number\n"
   ]
  }
 ],
 "metadata": {
  "kernelspec": {
   "display_name": "Python 3 (ipykernel)",
   "language": "python",
   "name": "python3"
  },
  "language_info": {
   "codemirror_mode": {
    "name": "ipython",
    "version": 3
   },
   "file_extension": ".py",
   "mimetype": "text/x-python",
   "name": "python",
   "nbconvert_exporter": "python",
   "pygments_lexer": "ipython3",
   "version": "3.10.9"
  }
 },
 "nbformat": 4,
 "nbformat_minor": 5
}

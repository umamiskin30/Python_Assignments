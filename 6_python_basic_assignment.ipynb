{
 "cells": [
  {
   "cell_type": "markdown",
   "id": "a01b9577",
   "metadata": {},
   "source": [
    "# 1. What are escape characters, and how do you use them?\n",
    "\n",
    "* Escape characters are special characters used in programming to represent characters that are difficult or impossible to type or display directly. They are represented by a backslash followed by a character or a sequence of characters. They are used to represent special characters with special meanings in the programming language, non-printable characters, or characters that are difficult to type. To use an escape character, you simply include it in a string or character literal by preceding it with a backslash."
   ]
  },
  {
   "cell_type": "markdown",
   "id": "3fcbddde",
   "metadata": {},
   "source": [
    "# 2. What do the escape characters n and t stand for?\n",
    "\n",
    "* The escape character \\n stands for a new line and \\t stands for a horizontal tab.\n"
   ]
  },
  {
   "cell_type": "code",
   "execution_count": 1,
   "id": "b2bc8f10",
   "metadata": {},
   "outputs": [
    {
     "name": "stdout",
     "output_type": "stream",
     "text": [
      "Name\tAge\tCity\n",
      "John\t30\tNew York\n",
      "Jane\t25\tLondon\n"
     ]
    }
   ],
   "source": [
    "print(\"Name\\tAge\\tCity\")\n",
    "print(\"John\\t30\\tNew York\")\n",
    "print(\"Jane\\t25\\tLondon\")\n"
   ]
  },
  {
   "cell_type": "markdown",
   "id": "3fa189a0",
   "metadata": {},
   "source": [
    "# 3. What is the way to include backslash characters in a string?\n",
    "\n",
    "* To include a backslash character in a string,we need to use two backslashes together. the first one is an escape character, and the second one is the literal backslash character. This tells the programming language to interpret the second backslash as a literal character and not as the beginning of a new escape sequence.\n"
   ]
  },
  {
   "cell_type": "markdown",
   "id": "7ca5639c",
   "metadata": {},
   "source": [
    "# 4. The string &quot;Howl&#39;s Moving Castle&quot; is a correct value. Why isn&#39;t the single quote character in the\n",
    "word Howl&#39;s not escaped a problem?\n",
    "\n",
    "* The single quote character in \"Howl's\" is not a problem because the string is enclosed in double quotes, which means that any single quotes within the string are treated as literal characters and not as string delimiters. If the string had been enclosed in single quotes, the single quote character in \"Howl's\" would need to be escaped using a backslash."
   ]
  },
  {
   "cell_type": "markdown",
   "id": "29cf7bb3",
   "metadata": {},
   "source": [
    "# 5. How do you write a string of newlines if you don&#39;t want to use the n character?\n",
    "\n"
   ]
  },
  {
   "cell_type": "code",
   "execution_count": 2,
   "id": "aeade83c",
   "metadata": {},
   "outputs": [
    {
     "name": "stdout",
     "output_type": "stream",
     "text": [
      "This\n",
      "is\n",
      "a\n",
      "multiline\n",
      "string\n"
     ]
    }
   ],
   "source": [
    "##example\n",
    "\n",
    "my_string = \"\"\"This\n",
    "is\n",
    "a\n",
    "multiline\n",
    "string\"\"\"\n",
    "print(my_string)\n"
   ]
  },
  {
   "cell_type": "markdown",
   "id": "263703c0",
   "metadata": {},
   "source": [
    "# 6. What are the values of the given expressions?\n",
    "&#39;Hello, world!&#39;[1]\n",
    "&#39;Hello, world!&#39;[0:5]\n",
    "&#39;Hello, world!&#39;[:5]\n",
    "&#39;Hello, world!&#39;[3:]\n",
    "\n",
    "\n",
    "* 'Hello, world!'[1] returns the character at index 1, which is 'e'.\n",
    "* 'Hello, world!'[0:5] returns the substring from index 0 up to, but not including, index 5, which is 'Hello'.\n",
    "* 'Hello, world!'[:5] returns the substring from the beginning of the string up to, but not including, index 5, which is 'Hello'. This is equivalent to 'Hello, world!'[0:5].\n",
    "* 'Hello, world!'[3:] returns the substring from index 3 to the end of the string, which is 'lo, world!'."
   ]
  },
  {
   "cell_type": "markdown",
   "id": "2e3a8d45",
   "metadata": {},
   "source": [
    "# 7. What are the values of the following expressions?\n",
    "&#39;Hello&#39;.upper()\n",
    "&#39;Hello&#39;.upper().isupper()\n",
    "&#39;Hello&#39;.upper().lower()\n",
    "\n",
    "* 'Hello'.upper() returns the string 'HELLO', which is the uppercase version of the original string.\n",
    "* 'Hello'.upper().isupper() returns True because the uppercase string 'HELLO' is indeed all uppercase characters.\n",
    "* 'Hello'.upper().lower() returns the string 'hello', which is the lowercase version of the uppercase string 'HELLO'."
   ]
  },
  {
   "cell_type": "markdown",
   "id": "91b12fbd",
   "metadata": {},
   "source": [
    "# 8. What are the values of the following expressions?\n",
    "&#39;Remember, remember, the fifth of July.&#39;.split()\n",
    "&#39;-&#39;.join(&#39;There can only one.&#39;.split())\n",
    "\n",
    "* 'Remember, remember, the fifth of July.'.split() returns a list of substrings that are separated by whitespace characters (spaces, tabs, and newlines). In this case, the result would be ['Remember,', 'remember,', 'the', 'fifth', 'of', 'July.'].\n",
    "* '-'.join('There can only one.'.split()) splits the string into a list of substrings using whitespace as a separator, then joins the substrings back together using the '-' character as a separator. The result would be the string 'There-can-only-one.'."
   ]
  },
  {
   "cell_type": "markdown",
   "id": "accd30cd",
   "metadata": {},
   "source": [
    "# 9. What are the methods for right-justifying, left-justifying, and centering a string?\n",
    "\n",
    "* Left-justifying a string means aligning it to the left margin of a fixed-width field, and filling the remaining space with blank spaces or other fill characters on the right.\n",
    "* Right-justifying a string means aligning it to the right margin of a fixed-width field, and filling the remaining space with blank spaces or other fill characters on the left.\n",
    "* Centering a string means aligning it in the center of a fixed-width field, and filling the remaining space with blank spaces or other fill characters on both sides."
   ]
  },
  {
   "cell_type": "markdown",
   "id": "33b5c60e",
   "metadata": {},
   "source": [
    "# 10. What is the best way to remove whitespace characters from the start or end?\n",
    "\n"
   ]
  },
  {
   "cell_type": "code",
   "execution_count": 12,
   "id": "f24d0297",
   "metadata": {},
   "outputs": [
    {
     "name": "stdout",
     "output_type": "stream",
     "text": [
      "hello world\n"
     ]
    }
   ],
   "source": [
    "my_string = \"  hello world  \"\n",
    "my_string = my_string.strip()\n",
    "print(my_string)  # Output: \"hello world\"\n"
   ]
  }
 ],
 "metadata": {
  "kernelspec": {
   "display_name": "Python 3 (ipykernel)",
   "language": "python",
   "name": "python3"
  },
  "language_info": {
   "codemirror_mode": {
    "name": "ipython",
    "version": 3
   },
   "file_extension": ".py",
   "mimetype": "text/x-python",
   "name": "python",
   "nbconvert_exporter": "python",
   "pygments_lexer": "ipython3",
   "version": "3.10.9"
  }
 },
 "nbformat": 4,
 "nbformat_minor": 5
}

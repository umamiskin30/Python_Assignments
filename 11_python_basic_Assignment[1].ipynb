{
 "cells": [
  {
   "cell_type": "markdown",
   "id": "08239118",
   "metadata": {},
   "source": [
    "# 1. Create an assert statement that throws an AssertionError if the variable spam is a negative\n",
    "integer."
   ]
  },
  {
   "cell_type": "code",
   "execution_count": null,
   "id": "d7333c4c",
   "metadata": {},
   "outputs": [],
   "source": [
    "assert spam >= 0, \"The value of spam should be a non-negative integer\"\n"
   ]
  },
  {
   "cell_type": "markdown",
   "id": "f337c498",
   "metadata": {},
   "source": [
    "# 2. Write an assert statement that triggers an AssertionError if the variables eggs and bacon contain\n",
    "strings that are the same as each other, even if their cases are different (that is, &#39;hello&#39; and &#39;hello&#39; are\n",
    "considered the same, and &#39;goodbye&#39; and &#39;GOODbye&#39; are also considered the same)."
   ]
  },
  {
   "cell_type": "code",
   "execution_count": null,
   "id": "540f98a6",
   "metadata": {},
   "outputs": [],
   "source": [
    "assert eggs.lower() != bacon.lower(), \"The strings in eggs and bacon should be different, even if their cases are different.\"\n"
   ]
  },
  {
   "cell_type": "markdown",
   "id": "553d1a07",
   "metadata": {},
   "source": [
    "# 3. Create an assert statement that throws an AssertionError every time."
   ]
  },
  {
   "cell_type": "code",
   "execution_count": null,
   "id": "4ad83c45",
   "metadata": {},
   "outputs": [],
   "source": [
    "assert False, \"This assert statement always triggers an AssertionError\"\n"
   ]
  },
  {
   "cell_type": "markdown",
   "id": "51c6726d",
   "metadata": {},
   "source": [
    "# 4. What are the two lines that must be present in your software in order to call logging.debug()?"
   ]
  },
  {
   "cell_type": "markdown",
   "id": "43df42b1",
   "metadata": {},
   "source": [
    "To use the `logging.debug()` function in Python, you need to first import the logging module and configure it with a basic configuration that specifies the logging level and format for log messages. \n",
    "\n",
    "The logging level determines which messages get output, and the format string controls how the messages are formatted. The default format string includes the time stamp, log level, and message.\n",
    "\n",
    "Once the logging module is configured, you can call `logging.debug()` anywhere in your code to output a debug-level log message. The log message will be output to the console or a file, depending on how you've configured the logging module."
   ]
  },
  {
   "cell_type": "code",
   "execution_count": null,
   "id": "05707a0f",
   "metadata": {},
   "outputs": [],
   "source": [
    "import logging\n",
    "logging.basicConfig(level=logging.DEBUG, format='%(asctime)s - %(levelname)s - %(message)s')\n"
   ]
  },
  {
   "cell_type": "markdown",
   "id": "0189b9e0",
   "metadata": {},
   "source": [
    "# 5. What are the two lines that your program must have in order to have logging.debug() send a\n",
    "logging message to a file named programLog.txt?"
   ]
  },
  {
   "cell_type": "code",
   "execution_count": null,
   "id": "30c888a0",
   "metadata": {},
   "outputs": [],
   "source": [
    "import logging\n",
    "logging.basicConfig(filename='programLog.txt', level=logging.DEBUG, format='%(asctime)s - %(levelname)s - %(message)s')\n"
   ]
  },
  {
   "cell_type": "markdown",
   "id": "e208b8da",
   "metadata": {},
   "source": [
    "# 6. What are the five levels of logging?"
   ]
  },
  {
   "cell_type": "markdown",
   "id": "271f9129",
   "metadata": {},
   "source": [
    "* DEBUG: Detailed information, typically of interest only when diagnosing problems.\n",
    "* INFO: Confirmation that things are working as expected.\n",
    "* WARNING: An indication that something unexpected happened or indicative of some problem in the near future (e.g., ‘disk space low’). The software is still working as expected.\n",
    "* ERROR: Due to a more serious problem, the software has not been able to perform some function.\n",
    "* CRITICAL: A very serious error, indicating that the program itself may be unable to continue running."
   ]
  },
  {
   "cell_type": "markdown",
   "id": "d0994d4c",
   "metadata": {},
   "source": [
    "# 7. What line of code would you add to your software to disable all logging messages?"
   ]
  },
  {
   "cell_type": "code",
   "execution_count": null,
   "id": "eb3629e3",
   "metadata": {},
   "outputs": [],
   "source": [
    "logging.disable(logging.CRITICAL)\n"
   ]
  },
  {
   "cell_type": "markdown",
   "id": "27156675",
   "metadata": {},
   "source": [
    "# 8.Why is using logging messages better than using print() to display the same message?"
   ]
  },
  {
   "cell_type": "markdown",
   "id": "812d1f3f",
   "metadata": {},
   "source": [
    "Using logging messages is better than using `print()` statements for several reasons:\n",
    "\n",
    "1. **Levels of severity**: Logging messages can be categorized by their severity (e.g., `DEBUG`, `INFO`, `WARNING`, `ERROR`, `CRITICAL`) to filter out or ignore messages that are not relevant, and focus on the messages that matter.\n",
    "\n",
    "2. **Flexibility**: You can log messages to different destinations (e.g., file, console, network server, database) and customize the format of the messages to include additional information.\n",
    "\n",
    "3. **Performance**: Logging messages are buffered, which can improve the performance of your program.\n",
    "\n",
    "4. **Maintenance**: Using logging messages makes it easier to maintain and debug your code, since you can turn logging on or off, or adjust the logging level as needed to diagnose problems.\n"
   ]
  },
  {
   "cell_type": "markdown",
   "id": "2733c07b",
   "metadata": {},
   "source": [
    "# 9. What are the differences between the Step Over, Step In, and Step Out buttons in the debugger?"
   ]
  },
  {
   "cell_type": "markdown",
   "id": "d42a737a",
   "metadata": {},
   "source": [
    "Step Over: When you click on the Step Over button, the debugger will execute the current line of code, and then move to the next line of code. If the current line of code contains a function or method call, the debugger will execute that function or method without stepping into it, and then move to the next line of code after the function or method call has completed.\n",
    "\n",
    "Step In: When you click on the Step In button, the debugger will step into the function or method call on the current line of code, and execute the first line of code inside that function or method. If the function or method contains another function or method call, the debugger will stop at the first line of code inside that function or method.\n",
    "\n",
    "Step Out: When you click on the Step Out button, the debugger will continue executing code until it exits the current function or method. This is useful when you are stepping through a function or method, and you want to quickly skip to the end of the function or method and return to the calling function or method."
   ]
  },
  {
   "cell_type": "markdown",
   "id": "f95f3911",
   "metadata": {},
   "source": [
    "# 10.After you click Continue, when will the debugger stop ?"
   ]
  },
  {
   "cell_type": "markdown",
   "id": "3d3cce6b",
   "metadata": {},
   "source": [
    "* The program reaches a breakpoint that has been set in the code, at which point the debugger will stop at that line of code.\n",
    "\n",
    "* The program encounters an unhandled exception or error, causing the program to crash or halt. The debugger will stop at the line of code where the exception or error occurred.\n",
    "\n",
    "* The program completes execution normally, at which point the debugger will stop at the end of the program."
   ]
  },
  {
   "cell_type": "markdown",
   "id": "546ce78c",
   "metadata": {},
   "source": [
    "# 11. What is the concept of a breakpoint?"
   ]
  },
  {
   "cell_type": "markdown",
   "id": "d50a0016",
   "metadata": {},
   "source": [
    "* A breakpoint is a debugging tool that allows you to pause the execution of a program at a specific point in the code, \n",
    "examine the state of the program, and step through the code to identify and fix errors. \n",
    "It's a useful tool for developers to understand how their program is executing and to identify issues in the code."
   ]
  }
 ],
 "metadata": {
  "kernelspec": {
   "display_name": "Python 3 (ipykernel)",
   "language": "python",
   "name": "python3"
  },
  "language_info": {
   "codemirror_mode": {
    "name": "ipython",
    "version": 3
   },
   "file_extension": ".py",
   "mimetype": "text/x-python",
   "name": "python",
   "nbconvert_exporter": "python",
   "pygments_lexer": "ipython3",
   "version": "3.10.9"
  }
 },
 "nbformat": 4,
 "nbformat_minor": 5
}

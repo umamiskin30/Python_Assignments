{
 "cells": [
  {
   "cell_type": "markdown",
   "id": "4e2ee6a0",
   "metadata": {},
   "source": [
    "# 1. In what modes should the PdfFileReader() and PdfFileWriter() File objects will be opened?"
   ]
  },
  {
   "cell_type": "markdown",
   "id": "9fabdf44",
   "metadata": {},
   "source": [
    "The `PdfFileReader()` and `PdfFileWriter()` functions in the PyPDF2 library are used for reading and writing PDF files, respectively. When using these functions, the file objects should be opened in binary mode with the \"rb\" and \"wb\" flags, respectively.\n",
    "\n",
    "The \"rb\" flag stands for \"read binary\", which indicates that the file is being opened for reading in binary mode. This is necessary for working with PDF files, as they are binary files.\n",
    "\n",
    "The \"wb\" flag stands for \"write binary\", which indicates that the file is being opened for writing in binary mode. This is necessary for writing PDF files using the `PdfFileWriter()` function.\n",
    "\n",
    "In summary, when working with `PdfFileReader()` and `PdfFileWriter()` functions in PyPDF2 library, the file objects should be opened in binary mode with the \"rb\" and \"wb\" flags, respectively."
   ]
  },
  {
   "cell_type": "markdown",
   "id": "ac12a87e",
   "metadata": {},
   "source": [
    "# 2. From a PdfFileReader object, how do you get a Page object for page 5?"
   ]
  },
  {
   "cell_type": "code",
   "execution_count": null,
   "id": "4011288c",
   "metadata": {},
   "outputs": [],
   "source": [
    "import PyPDF2\n",
    "\n",
    "# Open the PDF file in read binary mode\n",
    "with open('example.pdf', 'rb') as pdf_file:\n",
    "    # Create a PdfFileReader object\n",
    "    pdf_reader = PyPDF2.PdfFileReader(pdf_file)\n",
    "    # Get the Page object for page 5\n",
    "    page_five = pdf_reader.getPage(4) # Page numbers are zero-indexed\n"
   ]
  },
  {
   "cell_type": "markdown",
   "id": "102a44e7",
   "metadata": {},
   "source": [
    "# 3. What PdfFileReader variable stores the number of pages in the PDF document?"
   ]
  },
  {
   "cell_type": "code",
   "execution_count": null,
   "id": "d06e0e7d",
   "metadata": {},
   "outputs": [],
   "source": [
    "import PyPDF2\n",
    "\n",
    "# Open the PDF file in read binary mode\n",
    "with open('example.pdf', 'rb') as pdf_file:\n",
    "    # Create a PdfFileReader object\n",
    "    pdf_reader = PyPDF2.PdfFileReader(pdf_file)\n",
    "    # Get the number of pages in the PDF file\n",
    "    num_pages = pdf_reader.numPages\n",
    "    # Print the number of pages\n",
    "    print(f'The PDF file contains {num_pages} pages.')\n"
   ]
  },
  {
   "cell_type": "markdown",
   "id": "2ea26265",
   "metadata": {},
   "source": [
    "# 4. If a PdfFileReader object’s PDF is encrypted with the password swordfish, what must you do before you can obtain Page objects from it?"
   ]
  },
  {
   "cell_type": "markdown",
   "id": "0570ea91",
   "metadata": {},
   "source": [
    "If a PdfFileReader object's PDF is encrypted with the password \"swordfish\", you need to decrypt the PDF file by calling the decrypt() method on the PdfFileReader object and passing the password as an argument."
   ]
  },
  {
   "cell_type": "code",
   "execution_count": null,
   "id": "6dc25f54",
   "metadata": {},
   "outputs": [],
   "source": [
    "import PyPDF2\n",
    "\n",
    "# Open the password-protected PDF file in read binary mode\n",
    "with open('example.pdf', 'rb') as pdf_file:\n",
    "    # Create a PdfFileReader object\n",
    "    pdf_reader = PyPDF2.PdfFileReader(pdf_file)\n",
    "    # Check if the PDF file is encrypted\n",
    "    if pdf_reader.isEncrypted:\n",
    "        # Decrypt the PDF file with the password \"swordfish\"\n",
    "        pdf_reader.decrypt('swordfish')\n",
    "    # Get the Page object for page 1\n",
    "    page_one = pdf_reader.getPage(0) # Page numbers are zero-indexed\n"
   ]
  },
  {
   "cell_type": "markdown",
   "id": "8f0ea090",
   "metadata": {},
   "source": [
    "# 5. What methods do you use to rotate a page?"
   ]
  },
  {
   "cell_type": "markdown",
   "id": "2b7281da",
   "metadata": {},
   "source": [
    "To rotate a page in a PDF document using PyPDF2, you can use the rotateClockwise() or rotateCounterClockwise() methods of the PageObject class. These methods rotate the page clockwise or counterclockwise by 90 degrees, respectively. You can call these methods on a PageObject object to rotate the page."
   ]
  },
  {
   "cell_type": "code",
   "execution_count": null,
   "id": "1fcf6857",
   "metadata": {},
   "outputs": [],
   "source": [
    "import PyPDF2\n",
    "\n",
    "# Open the PDF file in read binary mode\n",
    "with open('example.pdf', 'rb') as pdf_file:\n",
    "    # Create a PdfFileReader object\n",
    "    pdf_reader = PyPDF2.PdfFileReader(pdf_file)\n",
    "    # Get the Page object for page 1\n",
    "    page_one = pdf_reader.getPage(0)\n",
    "    # Rotate the page clockwise by 90 degrees\n",
    "    page_one.rotateClockwise(90)\n",
    "    # Create a PdfFileWriter object\n",
    "    pdf_writer = PyPDF2.PdfFileWriter()\n",
    "    # Add the rotated page to the PdfFileWriter object\n",
    "    pdf_writer.addPage(page_one)\n",
    "    # Save the PdfFileWriter object to a new PDF file\n",
    "    with open('rotated.pdf', 'wb') as output_file:\n",
    "        pdf_writer.write(output_file)\n"
   ]
  },
  {
   "cell_type": "markdown",
   "id": "4d49933a",
   "metadata": {},
   "source": [
    "# 6. What is the difference between a Run object and a Paragraph object?"
   ]
  },
  {
   "cell_type": "markdown",
   "id": "4b234fb4",
   "metadata": {},
   "source": [
    "In the context of the Python library python-docx, a Paragraph object represents a single paragraph of text in a Word document, while a Run object represents a contiguous run of text within a paragraph that has a specific set of character properties, such as font, color, size, and style.\n",
    "\n",
    "A Paragraph object can contain one or more Run objects. When you add text to a Word document using python-docx, you typically add it as a Run object within a Paragraph object."
   ]
  },
  {
   "cell_type": "code",
   "execution_count": null,
   "id": "b6499f62",
   "metadata": {},
   "outputs": [],
   "source": [
    "import docx\n",
    "\n",
    "# Create a new Word document\n",
    "doc = docx.Document()\n",
    "\n",
    "# Create a new Paragraph object\n",
    "para = doc.add_paragraph()\n",
    "\n",
    "# Add a Run object to the Paragraph object\n",
    "run = para.add_run('This is some text.')\n",
    "\n",
    "# Set the font size of the Run object to 12\n",
    "run.font.size = docx.shared.Pt(12)\n",
    "\n",
    "# Save the Word document\n",
    "doc.save('example.docx')\n"
   ]
  },
  {
   "cell_type": "markdown",
   "id": "2792a055",
   "metadata": {},
   "source": [
    "# 7. How do you obtain a list of Paragraph objects for a Document object that’s stored in a variable named doc?"
   ]
  },
  {
   "cell_type": "markdown",
   "id": "3b172a95",
   "metadata": {},
   "source": [
    "To obtain a list of Paragraph objects for a Document object that's stored in a variable named doc, you can use the paragraphs property of the Document object. The paragraphs property returns a list of Paragraph objects, where each object represents a paragraph in the document."
   ]
  },
  {
   "cell_type": "code",
   "execution_count": null,
   "id": "a6152935",
   "metadata": {},
   "outputs": [],
   "source": [
    "import docx\n",
    "\n",
    "# Load a Word document into a Document object\n",
    "doc = docx.Document('example.docx')\n",
    "\n",
    "# Get a list of Paragraph objects from the Document object\n",
    "paragraphs = doc.paragraphs\n",
    "\n",
    "# Loop through the Paragraph objects and print their text\n",
    "for para in paragraphs:\n",
    "    print(para.text)\n"
   ]
  },
  {
   "cell_type": "markdown",
   "id": "e954830e",
   "metadata": {},
   "source": [
    "# 8. What type of object has bold, underline, italic, strike, and outline variables?"
   ]
  },
  {
   "cell_type": "markdown",
   "id": "0d84772e",
   "metadata": {},
   "source": [
    "The `Run` object in the `python-docx` module has the following variables:\n",
    "\n",
    "- `bold`: a Boolean value indicating whether the text in the `Run` object is bold or not.\n",
    "- `underline`: a Boolean value indicating whether the text in the `Run` object is underlined or not.\n",
    "- `italic`: a Boolean value indicating whether the text in the `Run` object is italicized or not.\n",
    "- `strike`: a Boolean value indicating whether the text in the `Run` object is strikethrough or not.\n",
    "- `outline`: a Boolean value indicating whether the text in the `Run` object has an outline or not.\n",
    "\n",
    "So, the `Run` object has these variables that represent text formatting properties."
   ]
  },
  {
   "cell_type": "markdown",
   "id": "7ca7dacc",
   "metadata": {},
   "source": [
    "# 9. What is the difference between False, True, and None for the bold variable?"
   ]
  },
  {
   "cell_type": "markdown",
   "id": "2098657c",
   "metadata": {},
   "source": [
    "In the `Run` object of the `python-docx` module, the `bold` variable can have three possible values:\n",
    "\n",
    "- `False`: Indicates that the text in the `Run` object is not bold.\n",
    "- `True`: Indicates that the text in the `Run` object is bold.\n",
    "- `None`: Indicates that the `bold` property is not explicitly set. In this case, the value of the `bold` property is inherited from the style hierarchy of the `Run` object.\n",
    "\n",
    "So, the `False` value sets the `bold` property to `False`, the `True` value sets the `bold` property to `True`, and the `None` value means that the `bold` property is not explicitly set and is inherited from the style hierarchy."
   ]
  },
  {
   "cell_type": "markdown",
   "id": "9cb8c90b",
   "metadata": {},
   "source": [
    "# 10. How do you create a Document object for a new Word document?"
   ]
  },
  {
   "cell_type": "markdown",
   "id": "3c35ba0b",
   "metadata": {},
   "source": [
    "To create a Document object for a new Word document using the python-docx module, you need to call the Document() function without any arguments. This creates a new Document object, which represents a new, empty Word document."
   ]
  },
  {
   "cell_type": "code",
   "execution_count": null,
   "id": "3b72f75f",
   "metadata": {},
   "outputs": [],
   "source": [
    "from docx import Document\n",
    "\n",
    "# Create a new Word document\n",
    "doc = Document()\n",
    "\n",
    "# Add content to the document\n",
    "doc.add_paragraph('Hello, World!')\n",
    "\n",
    "# Save the document\n",
    "doc.save('my_document.docx')\n"
   ]
  },
  {
   "cell_type": "markdown",
   "id": "0eab7ea0",
   "metadata": {},
   "source": [
    "# 11. How do you add a paragraph with the text &#39;Hello, there!&#39; to a Document object stored in a variable named doc?"
   ]
  },
  {
   "cell_type": "markdown",
   "id": "0abe9eb1",
   "metadata": {},
   "source": [
    "To add a paragraph with the text 'Hello, there!' to a Document object stored in a variable named doc, you can use the add_paragraph() method of the Document object. Here is an example code snippet"
   ]
  },
  {
   "cell_type": "code",
   "execution_count": null,
   "id": "33ae8b0d",
   "metadata": {},
   "outputs": [],
   "source": [
    "from docx import Document\n",
    "\n",
    "# Create a new Word document\n",
    "doc = Document()\n",
    "\n",
    "# Add a paragraph to the document\n",
    "doc.add_paragraph('Hello, there!')\n",
    "\n",
    "# Save the document\n",
    "doc.save('my_document.docx')\n"
   ]
  },
  {
   "cell_type": "markdown",
   "id": "325da2fc",
   "metadata": {},
   "source": [
    "# 12. What integers represent the levels of headings available in Word documents?"
   ]
  },
  {
   "cell_type": "markdown",
   "id": "a39af23c",
   "metadata": {},
   "source": [
    "In Word documents, the following integers represent the levels of headings available:\n",
    "\n",
    "- `0`: Body text\n",
    "- `1`: Level 1 heading\n",
    "- `2`: Level 2 heading\n",
    "- `3`: Level 3 heading\n",
    "- `4`: Level 4 heading\n",
    "- `5`: Level 5 heading\n",
    "- `6`: Level 6 heading\n",
    "\n",
    "You can use these integers when adding headings to a `Document` object using the `add_heading()` method of the `Document` object. For example, to add a level 1 heading with the text \"Introduction\" to a `Document` object named `doc`, you can use the following code:\n",
    "\n",
    "```python\n",
    "doc.add_heading('Introduction', level=1)\n",
    "```"
   ]
  },
  {
   "cell_type": "code",
   "execution_count": null,
   "id": "709389ec",
   "metadata": {},
   "outputs": [],
   "source": [
    "doc.add_heading('Introduction', level=1)\n"
   ]
  }
 ],
 "metadata": {
  "kernelspec": {
   "display_name": "Python 3 (ipykernel)",
   "language": "python",
   "name": "python3"
  },
  "language_info": {
   "codemirror_mode": {
    "name": "ipython",
    "version": 3
   },
   "file_extension": ".py",
   "mimetype": "text/x-python",
   "name": "python",
   "nbconvert_exporter": "python",
   "pygments_lexer": "ipython3",
   "version": "3.10.9"
  }
 },
 "nbformat": 4,
 "nbformat_minor": 5
}
